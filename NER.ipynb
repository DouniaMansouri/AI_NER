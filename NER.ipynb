{
 "cells": [
  {
   "cell_type": "markdown",
   "metadata": {},
   "source": [
    "# Notebook 8 - Représentation des connaissances"
   ]
  },
  {
   "cell_type": "markdown",
   "metadata": {},
   "source": [
    "CSI4506 Intelligence Artificielle  \n",
    "Automne 2020  \n",
    "Préparé par Julian Templeton, Caroline Barrière et Joel Muteba"
   ]
  },
  {
   "cell_type": "markdown",
   "metadata": {},
   "source": [
    "***INTRODUCTION***:  \n",
    "\n",
    "Lors de la lecture de texte, comprendre le type d'entités avec le texte permet d'extraire des informations supplémentaires sur l'entité. Grâce à l'utilisation de la reconnaissance d'entités nommées (Named Entity Recognition, NER), nous sommes en mesure de déterminer si une entité est une personne, une organisation, un pays, ... Lors de l'exploration de texte en ligne, nous voyons aussi occasionnellement que les entités ont des liens cliquables vers des pages Web avec plus d'informations sur le entité. Il s'agit d'une forme d'amélioration du texte pour permettre aux lecteurs d'accéder facilement aux informations nécessaires pour comprendre chaque entité à partir du texte et de son contenu.\n",
    "\n",
    "Dans ce notebook, nous revisiterons l'ensemble de données d'actualités liées à Covid-19 du notebook 7 pour explorer comment nous pouvons améliorer la désambiguïsation du NER de spaCy et améliorer le texte des articles de presse grâce à l'utilisation du linking d'entités. Cela se fera en deux parties, où nous utiliserons d'abord la cohérence du texte pour la désambiguïsation NER, puis nous effectuons une amélioration du texte avec le linking d'entités.\n",
    "\n",
    "**Pour ce notebook, ne modifiez pas les définitions de fonction et assurez-vous d'utiliser la configuration qui vous est fournie ET ne soumettez que ce fichier, rien d'autre n'est nécessaire**.\n",
    "\n",
    "Ce notebook utilise des bibliothèques qui ont été utilisées dans les notebooks précédents, notamment spaCy et pandas. Rappelez-vous que si vous rencontrez des problèmes avec le chargement de «en» pour commenter cette ligne et décommenter la ligne de code incluse (de la même manière que vous avez pu le faire dans le notebook 7)."
   ]
  },
  {
   "cell_type": "markdown",
   "metadata": {},
   "source": [
    "***DEVOIR***:  \n",
    "\n",
    "Parcourez le notebook en exécutant chaque cellule, une à la fois.\n",
    "Recherchez **(TO DO)** pour les tâches que vous devez effectuer. Ne modifiez pas le code en dehors des questions auxquelles vous êtes invité à répondre à moins que cela ne vous soit spécifiquement demandé. Une fois que vous avez terminé, signez le notebook (à la fin du notebook) et soumettez-le.\n",
    "\n",
    "*Le notebook sera noté le 30.\n",
    "Chaque **(TO DO)** est associé à un certain nombre de points.*\n",
    "***"
   ]
  },
  {
   "cell_type": "code",
   "execution_count": 1,
   "metadata": {},
   "outputs": [],
   "source": [
    "# Before starting we will import every module that we will be using\n",
    "import spacy\n",
    "import pandas as pd"
   ]
  },
  {
   "cell_type": "code",
   "execution_count": 2,
   "metadata": {},
   "outputs": [],
   "source": [
    "# The core spacy object that will be used for tokenization, lemmatization, POS Tagging, ...\n",
    "# Note that this is specifically for the English language and requires the English package to be installed\n",
    "# via pip to work as intended.\n",
    "\n",
    "sp = spacy.load('en')\n",
    "\n",
    "# If the above causes an error after installing the package described in (2), install the package described\n",
    "# in the Note section within the introduction and run this line of code instead of the above.\n",
    "#sp = spacy.load('en_core_web_sm')"
   ]
  },
  {
   "cell_type": "markdown",
   "metadata": {},
   "source": [
    "**PARTIE 1 - Cohérence du texte pour la désambiguïsation des entités nommées**  \n",
    "  \n",
    "Pour la première partie de ce notebook, nous utiliserons les modules de * spaCy * pour aider à éliminer l'ambiguïté du NER et à améliorer les résultats avec la cohérence du texte sur les documents du fichier inclus sur les articles de presse liés à Covid-19 de CBC News (le même fichier du notebook 7). Nous commencerons par examiner la désambiguïsation du NER effectuée par spaCy et penserons à quelques méthodes simples pour utiliser la cohérence des entités dans le texte afin d'améliorer potentiellement la désambiguïsation du NER.\n",
    "\n",
    "\n",
    "Comme pour le dernier notebook, l'ensemble de données est inclus avec ce notebook, mais les détails le concernant peuvent être trouvés [ici](https://www.kaggle.com/ryanxjhan/cbc-news-coronavirus-articles-march-26?select=news.csv). La première chose que nous allons faire, comme d'habitude, est de charger le fichier dans un dataframe pandas."
   ]
  },
  {
   "cell_type": "code",
   "execution_count": 3,
   "metadata": {},
   "outputs": [
    {
     "data": {
      "text/html": [
       "<div>\n",
       "<style scoped>\n",
       "    .dataframe tbody tr th:only-of-type {\n",
       "        vertical-align: middle;\n",
       "    }\n",
       "\n",
       "    .dataframe tbody tr th {\n",
       "        vertical-align: top;\n",
       "    }\n",
       "\n",
       "    .dataframe thead th {\n",
       "        text-align: right;\n",
       "    }\n",
       "</style>\n",
       "<table border=\"1\" class=\"dataframe\">\n",
       "  <thead>\n",
       "    <tr style=\"text-align: right;\">\n",
       "      <th></th>\n",
       "      <th>Unnamed: 0</th>\n",
       "      <th>authors</th>\n",
       "      <th>title</th>\n",
       "      <th>publish_date</th>\n",
       "      <th>description</th>\n",
       "      <th>text</th>\n",
       "      <th>url</th>\n",
       "    </tr>\n",
       "  </thead>\n",
       "  <tbody>\n",
       "    <tr>\n",
       "      <th>0</th>\n",
       "      <td>0</td>\n",
       "      <td>[]</td>\n",
       "      <td>'More vital now:' Gay-straight alliances go vi...</td>\n",
       "      <td>2020-05-03 1:30</td>\n",
       "      <td>Lily Overacker and Laurell Pallot start each g...</td>\n",
       "      <td>Lily Overacker and Laurell Pallot start each g...</td>\n",
       "      <td>https://www.cbc.ca/news/canada/calgary/gay-str...</td>\n",
       "    </tr>\n",
       "    <tr>\n",
       "      <th>1</th>\n",
       "      <td>1</td>\n",
       "      <td>[]</td>\n",
       "      <td>Scientists aim to 'see' invisible transmission...</td>\n",
       "      <td>2020-05-02 8:00</td>\n",
       "      <td>Some researchers aim to learn more about how t...</td>\n",
       "      <td>This is an excerpt from Second Opinion, a week...</td>\n",
       "      <td>https://www.cbc.ca/news/technology/droplet-tra...</td>\n",
       "    </tr>\n",
       "    <tr>\n",
       "      <th>2</th>\n",
       "      <td>2</td>\n",
       "      <td>['The Canadian Press']</td>\n",
       "      <td>Coronavirus: What's happening in Canada and ar...</td>\n",
       "      <td>2020-05-02 11:28</td>\n",
       "      <td>Canada's chief public health officer struck an...</td>\n",
       "      <td>The latest:  The lives behind the numbers: Wha...</td>\n",
       "      <td>https://www.cbc.ca/news/canada/coronavirus-cov...</td>\n",
       "    </tr>\n",
       "    <tr>\n",
       "      <th>3</th>\n",
       "      <td>3</td>\n",
       "      <td>[]</td>\n",
       "      <td>B.C. announces 26 new coronavirus cases, new c...</td>\n",
       "      <td>2020-05-02 18:45</td>\n",
       "      <td>B.C. provincial health officer Dr. Bonnie Henr...</td>\n",
       "      <td>B.C. provincial health officer Dr. Bonnie Henr...</td>\n",
       "      <td>https://www.cbc.ca/news/canada/british-columbi...</td>\n",
       "    </tr>\n",
       "    <tr>\n",
       "      <th>4</th>\n",
       "      <td>4</td>\n",
       "      <td>[]</td>\n",
       "      <td>B.C. announces 26 new coronavirus cases, new c...</td>\n",
       "      <td>2020-05-02 18:45</td>\n",
       "      <td>B.C. provincial health officer Dr. Bonnie Henr...</td>\n",
       "      <td>B.C. provincial health officer Dr. Bonnie Henr...</td>\n",
       "      <td>https://www.cbc.ca/news/canada/british-columbi...</td>\n",
       "    </tr>\n",
       "    <tr>\n",
       "      <th>5</th>\n",
       "      <td>5</td>\n",
       "      <td>['Senior Writer', 'Chris Arsenault Is A Senior...</td>\n",
       "      <td>Brazil has the most confirmed COVID-19 cases i...</td>\n",
       "      <td>2020-05-02 8:00</td>\n",
       "      <td>From describing coronavirus as a \"little flu,\"...</td>\n",
       "      <td>With infection rates spiralling, some big city...</td>\n",
       "      <td>https://www.cbc.ca/news/world/brazil-has-the-m...</td>\n",
       "    </tr>\n",
       "    <tr>\n",
       "      <th>6</th>\n",
       "      <td>6</td>\n",
       "      <td>['Cbc News']</td>\n",
       "      <td>The latest on the coronavirus outbreak for May 1</td>\n",
       "      <td>2020-05-01 20:43</td>\n",
       "      <td>The latest on the coronavirus outbreak from CB...</td>\n",
       "      <td>Coronavirus Brief (CBC)  Canada is officiall...</td>\n",
       "      <td>https://www.cbc.ca/news/the-latest-on-the-coro...</td>\n",
       "    </tr>\n",
       "    <tr>\n",
       "      <th>7</th>\n",
       "      <td>7</td>\n",
       "      <td>['Cbc News']</td>\n",
       "      <td>Coronavirus: What's happening in Canada and ar...</td>\n",
       "      <td>2020-05-01 11:51</td>\n",
       "      <td>Nova Scotia announced Friday it is immediately...</td>\n",
       "      <td>The latest:  The lives behind the numbers: Wha...</td>\n",
       "      <td>https://www.cbc.ca/news/canada/coronavirus-cov...</td>\n",
       "    </tr>\n",
       "    <tr>\n",
       "      <th>8</th>\n",
       "      <td>8</td>\n",
       "      <td>['Senior Writer', \"Adam Miller Is Senior Digit...</td>\n",
       "      <td>Did the WHO mishandle the global coronavirus p...</td>\n",
       "      <td>2020-04-30 8:00</td>\n",
       "      <td>The World Health Organization has come under f...</td>\n",
       "      <td>The World Health Organization has come under f...</td>\n",
       "      <td>https://www.cbc.ca/news/health/coronavirus-who...</td>\n",
       "    </tr>\n",
       "    <tr>\n",
       "      <th>9</th>\n",
       "      <td>9</td>\n",
       "      <td>['Thomson Reuters']</td>\n",
       "      <td>Armed people in Michigan's legislature protest...</td>\n",
       "      <td>2020-04-30 21:37</td>\n",
       "      <td>Hundreds of protesters, some armed, gathered a...</td>\n",
       "      <td>Hundreds of protesters, some armed, gathered a...</td>\n",
       "      <td>https://www.cbc.ca/news/world/protesters-michi...</td>\n",
       "    </tr>\n",
       "  </tbody>\n",
       "</table>\n",
       "</div>"
      ],
      "text/plain": [
       "  Unnamed: 0                                            authors  \\\n",
       "0          0                                                 []   \n",
       "1          1                                                 []   \n",
       "2          2                             ['The Canadian Press']   \n",
       "3          3                                                 []   \n",
       "4          4                                                 []   \n",
       "5          5  ['Senior Writer', 'Chris Arsenault Is A Senior...   \n",
       "6          6                                       ['Cbc News']   \n",
       "7          7                                       ['Cbc News']   \n",
       "8          8  ['Senior Writer', \"Adam Miller Is Senior Digit...   \n",
       "9          9                                ['Thomson Reuters']   \n",
       "\n",
       "                                               title      publish_date  \\\n",
       "0  'More vital now:' Gay-straight alliances go vi...   2020-05-03 1:30   \n",
       "1  Scientists aim to 'see' invisible transmission...   2020-05-02 8:00   \n",
       "2  Coronavirus: What's happening in Canada and ar...  2020-05-02 11:28   \n",
       "3  B.C. announces 26 new coronavirus cases, new c...  2020-05-02 18:45   \n",
       "4  B.C. announces 26 new coronavirus cases, new c...  2020-05-02 18:45   \n",
       "5  Brazil has the most confirmed COVID-19 cases i...   2020-05-02 8:00   \n",
       "6   The latest on the coronavirus outbreak for May 1  2020-05-01 20:43   \n",
       "7  Coronavirus: What's happening in Canada and ar...  2020-05-01 11:51   \n",
       "8  Did the WHO mishandle the global coronavirus p...   2020-04-30 8:00   \n",
       "9  Armed people in Michigan's legislature protest...  2020-04-30 21:37   \n",
       "\n",
       "                                         description  \\\n",
       "0  Lily Overacker and Laurell Pallot start each g...   \n",
       "1  Some researchers aim to learn more about how t...   \n",
       "2  Canada's chief public health officer struck an...   \n",
       "3  B.C. provincial health officer Dr. Bonnie Henr...   \n",
       "4  B.C. provincial health officer Dr. Bonnie Henr...   \n",
       "5  From describing coronavirus as a \"little flu,\"...   \n",
       "6  The latest on the coronavirus outbreak from CB...   \n",
       "7  Nova Scotia announced Friday it is immediately...   \n",
       "8  The World Health Organization has come under f...   \n",
       "9  Hundreds of protesters, some armed, gathered a...   \n",
       "\n",
       "                                                text  \\\n",
       "0  Lily Overacker and Laurell Pallot start each g...   \n",
       "1  This is an excerpt from Second Opinion, a week...   \n",
       "2  The latest:  The lives behind the numbers: Wha...   \n",
       "3  B.C. provincial health officer Dr. Bonnie Henr...   \n",
       "4  B.C. provincial health officer Dr. Bonnie Henr...   \n",
       "5  With infection rates spiralling, some big city...   \n",
       "6    Coronavirus Brief (CBC)  Canada is officiall...   \n",
       "7  The latest:  The lives behind the numbers: Wha...   \n",
       "8  The World Health Organization has come under f...   \n",
       "9  Hundreds of protesters, some armed, gathered a...   \n",
       "\n",
       "                                                 url  \n",
       "0  https://www.cbc.ca/news/canada/calgary/gay-str...  \n",
       "1  https://www.cbc.ca/news/technology/droplet-tra...  \n",
       "2  https://www.cbc.ca/news/canada/coronavirus-cov...  \n",
       "3  https://www.cbc.ca/news/canada/british-columbi...  \n",
       "4  https://www.cbc.ca/news/canada/british-columbi...  \n",
       "5  https://www.cbc.ca/news/world/brazil-has-the-m...  \n",
       "6  https://www.cbc.ca/news/the-latest-on-the-coro...  \n",
       "7  https://www.cbc.ca/news/canada/coronavirus-cov...  \n",
       "8  https://www.cbc.ca/news/health/coronavirus-who...  \n",
       "9  https://www.cbc.ca/news/world/protesters-michi...  "
      ]
     },
     "execution_count": 3,
     "metadata": {},
     "output_type": "execute_result"
    }
   ],
   "source": [
    "# Read the dataset, show top ten rows\n",
    "df = pd.read_csv(\"news.csv\")\n",
    "df.head(10)"
   ]
  },
  {
   "cell_type": "markdown",
   "metadata": {},
   "source": [
    "Dans le notebook précédent, lorsque nous avons exploré comment spaCy peut effectuer les différentes étapes de la pipeline TAL, nous avons vu qu'il était capable d'effectuer la reconnaissance d'entités nommées (NER). Vous trouverez ci-dessous le même exemple que nous avons vu dans le dernier notebook pour montrer comment nous pouvons accéder aux prédictions de type NER de spaCy pour les tokens dans un texte."
   ]
  },
  {
   "cell_type": "code",
   "execution_count": 4,
   "metadata": {},
   "outputs": [
    {
     "name": "stdout",
     "output_type": "stream",
     "text": [
      "\"Canada\" is a GPE\n",
      "\"at least two metres\" is a QUANTITY\n"
     ]
    }
   ],
   "source": [
    "# Same example from notebook 7, recall that we loop through the iterator found in the .ents property of a parsed sentence\n",
    "sentence_example = \"Government guidelines in Canada recommend that people stay at least two metres away from others as part of physical distancing measures to curb the spread of COVID-19.\"\n",
    "sentence_example_content = sp(sentence_example)\n",
    "# Loop through all tokens that contain a NER type and print the token along with the corresponding NER type\n",
    "for token in sentence_example_content.ents:\n",
    "    print(\"\\\"\" + token.text + \"\\\" is a \" + token.label_ )"
   ]
  },
  {
   "cell_type": "markdown",
   "metadata": {},
   "source": [
    "**(TO DO) Q1**  \n",
    "\n",
    "Avant d'effectuer un NER avec cohérence de texte, vous explorerez d'abord comment spaCy effectue la désambiguïsation du NER. Dans le texte du ***second document*** (index 1) de notre corpus de documents, quels mots sont *PER* (spaCy utilise le type *PERSON*, plutôt que *PER*), *ORG* (Organisation) et *GPE* (entité géopolitique). Vous devez effectuer les opérations suivantes pour cette question:\n",
    "\n",
    "a) Imprimez chaque *PER*, *ORG* et *GPE* avec son type NER depuis spaCy.\n",
    "\n",
    "b) Toutes ces prédictions de type NER sont-elles correctes? Sinon, donnez trois exemples de sorties incorrectes.\n",
    "\n",
    "c) Est-ce que certains des problèmes avec les prédictions de type NER proviennent d'une étape antérieure dans la pipeline TAL qui est effectuée par spaCy? Décrivez le problème pour deux exemples de la sortie ci-dessus."
   ]
  },
  {
   "cell_type": "markdown",
   "metadata": {},
   "source": [
    "**(TO DO) Q1 (a) - 2 points**  \n",
    "\n",
    "Imprimez chaque *PER*, *ORG* et *GPE* avec son type NER depuis spaCy"
   ]
  },
  {
   "cell_type": "code",
   "execution_count": 5,
   "metadata": {},
   "outputs": [
    {
     "name": "stdout",
     "output_type": "stream",
     "text": [
      "\"the World Health Organization\" is a ORG\n",
      "\"Touches\" is a ORG\n",
      "\"WHO\" is a ORG\n",
      "\"the Public Health Agency\" is a ORG\n",
      "\"Harvard School of Public Health\" is a ORG\n",
      "\"Wells\" is a ORG\n",
      "\"Canada\" is a GPE\n",
      "\"the Fluid Dynamics of Disease Transmission Laboratory\" is a ORG\n",
      "\"the Massachusetts Institute of Technology\" is a ORG\n",
      "\"McMaster University\" is a ORG\n",
      "\"RNA\" is a GPE\n",
      "\"Wuhan\" is a GPE\n",
      "\"China\" is a GPE\n",
      "\"Nebraska\" is a GPE\n",
      "\"Canada\" is a GPE\n",
      "\"Sinai Health\" is a ORG\n",
      "\"Toronto\" is a GPE\n",
      "\"McGeer\" is a ORG\n",
      "\"Bourouiba\" is a GPE\n",
      "\"Bourouiba/MIT/\" is a ORG\n",
      "\"Sunnybrook Hospital\" is a ORG\n",
      "\"Toronto\" is a GPE\n",
      "\"JAMA Insights\" is a ORG\n",
      "\"N95\" is a ORG\n",
      "\"U.S.\" is a GPE\n",
      "\"the New England Journal of Medicine\" is a ORG\n",
      "\"the U.S. National Institutes of Health\" is a ORG\n",
      "\"U.S. National Institutes of Health\" is a ORG\n",
      "\"Journal of the Royal Society Interface\" is a ORG\n",
      "\"U.S.\" is a GPE\n",
      "\"Singapore\" is a GPE\n",
      "\"N95\" is a ORG\n",
      "\"Penn State University/Journal of the Royal Society Interface\" is a ORG\n",
      "\"The World Health Organization\" is a ORG\n",
      "\"Los Angeles\" is a GPE\n",
      "\"Italy\" is a GPE\n",
      "\"Austria\" is a GPE\n"
     ]
    }
   ],
   "source": [
    "# Select the second document (index 1)\n",
    "doc = df[\"text\"][1]\n",
    "# TODO\n",
    "doc_content = sp(doc)\n",
    "for token in doc_content.ents:\n",
    "    if token.label_ == \"ORG\" or token.label_ == \"PER\" or token.label_ == \"GPE\":\n",
    "        print(\"\\\"\" + token.text + \"\\\" is a \" + token.label_ )"
   ]
  },
  {
   "cell_type": "markdown",
   "metadata": {},
   "source": [
    "**(TO DO) Q1 (b) - 1 point**   \n",
    "Toutes ces prédictions de type NER sont-elles correctes? Sinon, donnez deux exemples de sorties incorrectes.   "
   ]
  },
  {
   "cell_type": "markdown",
   "metadata": {},
   "source": [
    "TODO ...\n",
    "\n",
    "Non, quelques prédictions ne sont pas correctes. En effet, *Touches*, *Wells* et N95 ne sont pas des organisations. \n"
   ]
  },
  {
   "cell_type": "markdown",
   "metadata": {},
   "source": [
    "**(TO DO) Q1 (c) - 2 points**   \n",
    "Est-ce que l'un des problèmes avec les prédictions de type NER provient d'une étape antérieure du pipeline NLP qui est effectuée par spaCy? Décrivez le problème pour deux exemples de la sortie ci-dessus. "
   ]
  },
  {
   "cell_type": "markdown",
   "metadata": {},
   "source": [
    "TODO ...   \n",
    "\n",
    "Oui, il y a eu un problème à l'étape de tokenisation de la pipeline NLP. En effet, on peut remarquer que le mot *Bourouiba/MIT/* et *Penn State University/Journal of the Royal Society Interface* ont mal été séparés, ce qui a causé un effet boule de neige. Alors, ces mots ont été mal catégorisés comme étant des organisations par l'étape NER. Aussi, on peut remarque qu'il y a une répétition des mots, car *Bourouiba* et *Journal of the Royal Society Interface* ont déjà été catégorisés."
   ]
  },
  {
   "cell_type": "markdown",
   "metadata": {},
   "source": [
    "Maintenant que vous avez vu que spaCy NER ne fonctionne pas toujours correctement, nous allons essayer d'utiliser la cohérence du texte pour modifier les types de NER fournis par spaCy. En fait, spaCy affecte les types d'entités une phrase à la fois. Mais en regardant un document entier, et sachant que le texte est généralement cohérent, nous pouvons effectuer un post-traitement dans le module NER de spaCy et corriger certaines erreurs. Par texte cohérent, nous entendons, par exemple, que si une personne est mentionnée avec un nom particulier, par ex. *McGeer*, il y a de fortes chances que chaque fois que nous voyons *McGeer* dans le document, ce soit la même personne. Il est donc peu probable que *McGeer* soit une fois une personne et une fois une organisation. Ce n'est pas toujours vrai, mais c'est une hypothèse courante. Par conséquent, nous explorerons deux stratégies différentes pour utiliser la cohérence du texte pour post-traiter la sortie du module spaCy NER.\n",
    "\n",
    "La première stratégie (*explorée en Q2 / Q3*) est de trouver, parmi tous les types de NER assignés, lequel est le plus fréquent. Par exemple, l'entité *Bourouiba* s'est vu attribuer 1 fois GPE et 3 fois PERSON, donc ces informations peuvent être utilisées pour modifier le type GPE et le changer en PERSON.\n",
    "\n",
    "La deuxième stratégie (explorée à la Q4) est d'essayer de trouver une forme plus longue dans le texte. Puisque cette forme plus longue devrait être moins ambiguë, nous pouvons l'utiliser pour lever l'ambiguïté des formes plus courtes et plus ambiguës. Par exemple, *Lydia Bourouiba* apparaît dans le texte et se voit attribuer PERSONNE. Nous pouvons utiliser ces informations pour attribuer d'autres occurrences de la forme abrégée *Bourouiba* à également PERSONNE.\n",
    "\n",
    "Une fois que nous avons défini ces deux stratégies, elles peuvent être combinées de différentes manières. Ainsi, à la Q5, il vous est demandé de combiner les deux stratégies dans un composant de post-traitement pour le module spaCy NER. Bien sûr, utiliser cette cohérence de texte ne fonctionnera pas à chaque fois, et introduira malheureusement quelques erreurs ... Mais essayons."
   ]
  },
  {
   "cell_type": "markdown",
   "metadata": {},
   "source": [
    "Dans le reste de cette section, nous travaillerons avec le septième document du corpus (index 6). Ci-dessous, nous chargeons le document et explorons toutes les entités dans le document avec leur type NER correspondant."
   ]
  },
  {
   "cell_type": "code",
   "execution_count": 6,
   "metadata": {},
   "outputs": [],
   "source": [
    "# Load the document's text for the seventh document (index 6)\n",
    "doc = df[\"text\"][6]\n",
    "# Parse the text with spaCy\n",
    "doc_sp = sp(doc)"
   ]
  },
  {
   "cell_type": "code",
   "execution_count": 7,
   "metadata": {},
   "outputs": [
    {
     "name": "stdout",
     "output_type": "stream",
     "text": [
      "0: \"Coronavirus Brief\" is a ORG\n",
      "1: \"CBC\" is a ORG\n",
      "2: \"Canada\" is a GPE\n",
      "3: \"C.D. Howe\" is a PERSON\n",
      "4: \"Ontario\" is a GPE\n",
      "5: \"Monday\" is a DATE\n",
      "6: \"Alberta\" is a GPE\n",
      "7: \"first\" is a ORDINAL\n",
      "8: \"Saturday\" is a DATE\n",
      "9: \"Air Canada\" is a ORG\n",
      "10: \"Christmas\" is a DATE\n",
      "11: \"Canadians\" is a NORP\n",
      "12: \"more than $1.2 million\" is a MONEY\n",
      "13: \"England\" is a GPE\n",
      "14: \"Peter Cziborra/Reuters\" is a PERSON\n",
      "15: \"months\" is a DATE\n",
      "16: \"CBC\" is a ORG\n",
      "17: \"Andre Mayer\" is a PERSON\n",
      "18: \"Canada\" is a GPE\n",
      "19: \"19th-century\" is a DATE\n",
      "20: \"2013\" is a DATE\n",
      "21: \"Calgary\" is a GPE\n",
      "22: \"John Brown\" is a PERSON\n",
      "23: \"the University of Calgary\" is a ORG\n",
      "24: \"two-metre\" is a TIME\n",
      "25: \"Last week\" is a DATE\n",
      "26: \"Italian\" is a NORP\n",
      "27: \"Milan\" is a GPE\n",
      "28: \"35 kilometres\" is a QUANTITY\n",
      "29: \"Berlin\" is a GPE\n",
      "30: \"Budapest\" is a GPE\n",
      "31: \"Mexico City\" is a GPE\n",
      "32: \"Ahsan Habib\" is a PERSON\n",
      "33: \"Dalhousie University\" is a ORG\n",
      "34: \"U.S.\" is a GPE\n",
      "35: \"Atlanta\" is a GPE\n",
      "36: \"Chicago\" is a GPE\n",
      "37: \"Denver\" is a GPE\n",
      "38: \"Habib\" is a PERSON\n",
      "39: \"Brown\" is a PERSON\n",
      "40: \"Calgary\" is a GPE\n",
      "41: \"Housebrand\" is a ORG\n",
      "42: \"Zoom\" is a PERSON\n",
      "43: \"The National The At Issue\" is a WORK_OF_ART\n",
      "44: \"Quebec\" is a GPE\n",
      "45: \"Conservative\" is a NORP\n",
      "46: \"BRIEF Canada\" is a ORG\n",
      "47: \"C.D. Howe\" is a PERSON\n",
      "48: \"Canada\" is a GPE\n",
      "49: \"the C.D. Howe Institute's Business Cycle Council\" is a ORG\n",
      "50: \"today\" is a DATE\n",
      "51: \"Canada\" is a GPE\n",
      "52: \"February\" is a DATE\n",
      "53: \"one\" is a CARDINAL\n",
      "54: \"two\" is a CARDINAL\n",
      "55: \"three-month\" is a DATE\n",
      "56: \"two quarters\" is a DATE\n",
      "57: \"less than two months old\" is a DATE\n",
      "58: \"Canada\" is a GPE\n",
      "59: \"first\" is a ORDINAL\n",
      "60: \"Canada\" is a GPE\n",
      "61: \"2008\" is a DATE\n",
      "62: \"March\" is a DATE\n",
      "63: \"April\" is a DATE\n",
      "64: \"the entire month\" is a DATE\n",
      "65: \"Canada\" is a GPE\n",
      "66: \"Ontario\" is a GPE\n",
      "67: \"Monday\" is a DATE\n",
      "68: \"Alberta\" is a GPE\n",
      "69: \"Saturday\" is a DATE\n",
      "70: \"Ontario\" is a GPE\n",
      "71: \"today\" is a DATE\n",
      "72: \"Monday\" is a DATE\n",
      "73: \"Today\" is a DATE\n",
      "74: \"Doug Ford\" is a PERSON\n",
      "75: \"Alberta\" is a GPE\n",
      "76: \"Jason Kenney\" is a PERSON\n",
      "77: \"first\" is a ORDINAL\n",
      "78: \"Alberta\" is a GPE\n",
      "79: \"Saturday\" is a DATE\n",
      "80: \"mid-May\" is a DATE\n",
      "81: \"Kenney\" is a ORG\n",
      "82: \"Thursday\" is a DATE\n",
      "83: \"Monday\" is a DATE\n",
      "84: \"the end of the academic year\" is a DATE\n",
      "85: \"Kenney\" is a PERSON\n",
      "86: \"summer\" is a DATE\n",
      "87: \"Canada\" is a GPE\n",
      "88: \"Air Canada\" is a ORG\n",
      "89: \"Christmas\" is a DATE\n",
      "90: \"Air Canada\" is a ORG\n",
      "91: \"winter\" is a DATE\n",
      "92: \"Canadians\" is a NORP\n",
      "93: \"Tim Strauss\" is a PERSON\n",
      "94: \"Canadian\" is a NORP\n",
      "95: \"Air Canada\" is a ORG\n",
      "96: \"more than 90\" is a CARDINAL\n",
      "97: \"Canadian\" is a NORP\n",
      "98: \"today\" is a DATE\n",
      "99: \"North American\" is a NORP\n",
      "100: \"Air Canada\" is a ORG\n",
      "101: \"American Airlines\" is a ORG\n",
      "102: \"Transport Canada\" is a ORG\n",
      "103: \"two metres\" is a QUANTITY\n",
      "104: \"Air Canada\" is a ORG\n",
      "105: \"Christmas\" is a DATE\n",
      "106: \"Helane Becker\" is a PERSON\n",
      "107: \"first\" is a ORDINAL\n",
      "108: \"Canada\" is a GPE\n",
      "109: \"CBC News\" is a ORG\n",
      "110: \"covid@cbc.ca\" is a CARDINAL\n",
      "111: \"U.S.\" is a GPE\n",
      "112: \"U.S.\" is a GPE\n",
      "113: \"Anthony Fauci\" is a PERSON\n",
      "114: \"Canada\" is a GPE\n",
      "115: \"Health Canada\" is a ORG\n",
      "116: \"Health Canada\" is a ORG\n",
      "117: \"Gilead\" is a ORG\n",
      "118: \"CBC News\" is a ORG\n",
      "119: \"Gilead\" is a ORG\n",
      "120: \"Canada\" is a GPE\n",
      "121: \"Alberta\" is a GPE\n",
      "122: \"daily\" is a DATE\n",
      "123: \"Everly-Ann Toma\" is a FAC\n",
      "124: \"Grace Horsfall Couldwell\" is a ORG\n",
      "125: \"Paint\" is a ORG\n",
      "126: \"MJ\" is a PERSON\n",
      "127: \"Facebook\" is a ORG\n",
      "128: \"Alberta\" is a GPE\n",
      "129: \"MJ Stead\" is a PERSON\n",
      "130: \"Lori Toma\" is a PERSON\n",
      "131: \"Nancy Horsfall Couldwell\" is a PERSON\n",
      "132: \"Alta\" is a WORK_OF_ART\n",
      "133: \"MJ Stead\" is a PERSON\n",
      "134: \"Facebook\" is a ORG\n",
      "135: \"Paint\" is a ORG\n",
      "136: \"MJ\" is a ORG\n",
      "137: \"Facebook Live\" is a WORK_OF_ART\n",
      "138: \"20\" is a CARDINAL\n",
      "139: \"30\" is a CARDINAL\n",
      "140: \"more than 1,500\" is a CARDINAL\n",
      "141: \"more than one\" is a CARDINAL\n",
      "142: \"Two years ago\" is a DATE\n",
      "143: \"Stead\" is a PERSON\n",
      "144: \"100 days\" is a DATE\n",
      "145: \"Canada\" is a GPE\n",
      "146: \"covid@cbc.ca\" is a CARDINAL\n",
      "147: \"CBC News\" is a ORG\n",
      "148: \"daily\" is a DATE\n",
      "149: \"CBC News Network\" is a ORG\n",
      "150: \"CBC News Network\" is a ORG\n",
      "151: \"CBC\" is a ORG\n",
      "152: \"CBC News Network\" is a ORG\n",
      "153: \"CBC News\" is a ORG\n"
     ]
    }
   ],
   "source": [
    "# Display all entities from the text along with their index in the .ents iterator and the\n",
    "# corresponding NER type\n",
    "for i, token in enumerate(doc_sp.ents):\n",
    "    print(str(i) + \": \\\"\" + token.text + \"\\\" is a \" + token.label_ )"
   ]
  },
  {
   "cell_type": "markdown",
   "metadata": {},
   "source": [
    "**(TO DO) Q2 - 3 points**  \n",
    "Comme vous pouvez le voir dans les résultats, parfois la même entité s'est vu attribuer différents types d'entités (par exemple, dans le document pour Q1 *McGeer* était une fois ORG, une fois PERSON) puisque l'algorithme NER regarde phrase par phrase. Dans la fonction suivante, le but sera de trouver tous les types d'entités possibles affectés à une seule entité.\n",
    "\n",
    "Complétez la définition de la fonction *find_entity_types* ci-dessous. Cette fonction accepte en entrée une entité spaCy spécifique définie par le paramètre *entity* (à partir de l'itérable *.ents* des entités) et une liste de toutes les entités spaCy définies par le paramètre *entity*.\n",
    "\n",
    "La fonction doit trouver toutes les entités du même nom que *entité* à partir des *entités* (la même forme de surface). Pour chaque correspondance entre les entités, ajoutez le type NER de l'entité de la liste au dictionnaire *type_counts* et suivez le nombre de fois où chaque type NER apparaît.\n",
    "\n",
    "Ex: type_counts \\[NER type\\] = nombre total de fois où le décompte apparaît"
   ]
  },
  {
   "cell_type": "code",
   "execution_count": 12,
   "metadata": {},
   "outputs": [],
   "source": [
    "def find_entity_types(entity, entities):\n",
    "    '''\n",
    "    Given a specific entity and a list of entities, finds all entities from the list that match the specified\n",
    "    entity, but are of a different type.\n",
    "    \n",
    "    Returns the different NER types that have been classified for an entity and the count per NER type\n",
    "    as a dictionary with the keys as the NER type and the value as the count\n",
    "    '''\n",
    "    type_counts = { }\n",
    "    for token in entities:\n",
    "        if str(token.text) == str(entity): #if the token is equal to the entity \n",
    "            if token.label_ in type_counts: #if the token label is in the dictionnary, update the value\n",
    "                count = type_counts[token.label_]\n",
    "                type_counts[token.label_] = (count + 1)\n",
    "                \n",
    "            else: #if not, put the token label with the value 1 \n",
    "                type_counts[token.label_] = 1\n",
    "                \n",
    "    return type_counts"
   ]
  },
  {
   "cell_type": "code",
   "execution_count": 13,
   "metadata": {},
   "outputs": [
    {
     "name": "stdout",
     "output_type": "stream",
     "text": [
      "All possible NER types for \"Kenney\" are {'ORG': 1, 'PERSON': 1}\n"
     ]
    }
   ],
   "source": [
    "# Test the above to find the result when checking for the types of the entity 'Kenney' \n",
    "# from the document loaded above\n",
    "print(\"All possible NER types for \\\"\" + doc_sp.ents[85].text + \"\\\" are \" + str(find_entity_types(doc_sp.ents[85], doc_sp.ents)))"
   ]
  },
  {
   "cell_type": "markdown",
   "metadata": {},
   "source": [
    "**(TO DO) Q3 - 2 points**  \n",
    "\n",
    "Dans la méthode précédente, *find_entity_types*, nous avons trouvé tous les types d'entités possibles pour une seule entité. Maintenant, nous voulons les utiliser pour trouver le type le plus courant. Si nous regardons à nouveau les résultats pour Q1, dans le cas de *McGeer*, c'est une égalité. Mais pour *Bourouiba*, il existe un type GPE et 3 types PERSON, donc le plus courant serait PERSON.\n",
    "\n",
    "Complétez la définition de la fonction *most_common_type* ci-dessous. Cette fonction accepte en entrée une entité spaCy spécifique définie par le paramètre *entity* (à partir de l'itérable *.ents* des entités) et une liste de toutes les entités spaCy définies par le paramètre *entity*.\n",
    "\n",
    "Remarque: vous pouvez régler les cas d'égalité à votre guise."
   ]
  },
  {
   "cell_type": "code",
   "execution_count": 24,
   "metadata": {},
   "outputs": [],
   "source": [
    "def most_common_type(entity, entities):\n",
    "    '''\n",
    "    Given a specific entity and a list of entities, find the most similar entities and assign the\n",
    "    NER type to entity based on the most common NER type assigned to entities of the same name (if there\n",
    "    is a tie, you decide how to handle this).\n",
    "    \n",
    "    Returns the most common NER type based on similar entities\n",
    "    '''\n",
    "    # TODO\n",
    "    entity_types = find_entity_types(entity, entities) #find the entity types of an entity\n",
    "    max_value = max(entity_types.values()) #find the max value of the dictionnary\n",
    "    common_NER = \"\"\n",
    "    i = 0\n",
    "    for NER, count in entity_types.items(): #loop throught dictionnary \n",
    "        if count == max_value: #if an item is equal to the max value, append the NER to the string\n",
    "            if(i > 0):\n",
    "                common_NER += \" and \" + NER\n",
    "            else: \n",
    "                common_NER += NER\n",
    "            \n",
    "        i += 1 #counter if there is more than one common NER\n",
    "            \n",
    "    return common_NER\n",
    "    "
   ]
  },
  {
   "cell_type": "code",
   "execution_count": 25,
   "metadata": {},
   "outputs": [
    {
     "name": "stdout",
     "output_type": "stream",
     "text": [
      "The most common NER type to \"Kenney\" is ORG and PERSON\n"
     ]
    }
   ],
   "source": [
    "# Test the above to find the result when checking for the types of the entity 'Kenney' \n",
    "# from the document loaded above\n",
    "print(\"The most common NER type to \\\"\" + doc_sp.ents[85].text + \"\\\" is \" + most_common_type(doc_sp.ents[85], doc_sp.ents))"
   ]
  },
  {
   "cell_type": "markdown",
   "metadata": {},
   "source": [
    "**(TO DO) Q4 - 2 points**  \n",
    "\n",
    "Nous allons maintenant travailler avec une méthode légèrement plus sophistiquée. Nous travaillerons à nouveau avec les mêmes *entité* et paramètres *entités*, mais cette fois vous devrez attribuer à *entité* le type NER d'une autre entité dans l'itérateur *entities*.\n",
    "\n",
    "Plus précisément, vous devez parcourir les *entités* pour trouver une forme normalisée de *entité*. Dans ce scénario, toute entité contenant *entité* en tant que sous-chaîne sera considérée comme une sélection valide pour la forme normalisée (où l'entité sélectionnée n'a pas le même nom que *entité*). Si une forme normalisée est trouvée, retournez le type NER de cette entité, le nom de cette entité et l'entité elle-même.\n",
    "\n",
    "Ex: *CBC News Network* est la forme normalisée de *CBC*. Ainsi, si cette entité est trouvée, retournez le type NER de l'entité (*ORG*) et le nom de l'entité (*CBC News Network*)."
   ]
  },
  {
   "cell_type": "code",
   "execution_count": 54,
   "metadata": {},
   "outputs": [],
   "source": [
    "def assign_normalized_form(entity, entities):\n",
    "    '''\n",
    "    Given an entity and a list of entities, search the list of entities for any token that\n",
    "    is does not have the exact same text as entity and assign entity that token's NER type\n",
    "    if entity is a substring of that token.\n",
    "    \n",
    "    Returns the empty string if no normalized forms are found and the NER type of the normalized form if it is found.\n",
    "    Also returns the name of the entity found, if any (along with the entity).\n",
    "    '''\n",
    "    # MAY BE DONE SO THAT THE LAST GETS ADDED INSTEAD, THIS IS FINE.\n",
    "    # Recall to return the three requested components (NER type, the text, and the actual entity)\n",
    "    normalized_form = \"\"\n",
    "    for token in entities:\n",
    "        if (str(entity) in str(token.text)) and (str(entity) != str(token.text)): #if the entity is in the token and they are not equal to each other, then the token is the normalized form of the entity\n",
    "            normalized_form = str(entity) + \" fait référence à \" + token.text + \" et est un \" + token.label_ #write the correct sentence\n",
    "    return normalized_form\n",
    "    "
   ]
  },
  {
   "cell_type": "code",
   "execution_count": 55,
   "metadata": {},
   "outputs": [
    {
     "name": "stdout",
     "output_type": "stream",
     "text": [
      "Kenney fait référence à Jason Kenney et est un PERSON\n",
      "CBC News fait référence à CBC News Network et est un ORG\n"
     ]
    }
   ],
   "source": [
    "# Test the above to find the result when checking for the types of the entity 'Kenney' \n",
    "# from the document loaded above\n",
    "print(assign_normalized_form(doc_sp.ents[85], doc_sp.ents))\n",
    "# Test the above to find the result when checking for the types of the entity 'CBC News' \n",
    "# from the document loaded above\n",
    "print(assign_normalized_form(doc_sp.ents[153], doc_sp.ents))"
   ]
  },
  {
   "cell_type": "markdown",
   "metadata": {},
   "source": [
    "**(TO DO) Q5**  \n",
    "\n",
    "Maintenant que vous avez défini plusieurs algorithmes pour effectuer une désambiguïsation NER avec cohérence de texte, vous allez tester vos algorithmes et les utiliser pour définir une méthode légèrement plus robuste de désambiguïsation NER en combinant les techniques effectuées. Vous explorerez ensuite si ces techniques aident toujours à désambiguïser les NER.\n",
    "\n",
    "a) Revisitez le document qui a été utilisé à Q1 (index 1) et, pour chaque entité, récupérez la forme normalisée de l'entité (le cas échéant) et n'affichez que les formes normalisées avec leurs types NER dans le format suivant (seulement s'il y a est une forme normalisée renvoyée):\n",
    "\n",
    "&emsp; *Original_entity fait référence à Normalized_entity, et est un NER_Type_of_Normalized_Form*\n",
    "\n",
    "b) Définissez un algorithme plus robuste qui combine les algorithmes conçus dans les dernières questions. Cet algorithme doit accepter une entité spécifique et une liste d'entités comme entrée, rechercher la forme normalisée de l'entité spécifique (le cas échéant) et renvoyer un type NER pour la forme normalisée basée sur le type NER le plus courant pour cette entité. Si aucune forme normalisée n'est trouvée, l'algorithme doit continuer en utilisant l'entité spécifique. Vous devez également renvoyer le nom de la forme normalisée (ou de l'entité d'origine s'il n'y a pas de forme normalisée).\n",
    "\n",
    "c) Pour le septième document (index 6), exécutez l'algorithme défini en b) pour chaque entité, en imprimant ce qui suit pour chaque entité:\n",
    "\n",
    "&emsp; *Original_entity fait référence à Normalized_entity (si aucun, identique à l'original), et est un Most_common_NER_type_of_normalized_form*\n",
    "\n",
    "d) Est-ce que l'un des résultats obtenus en effectuant une désambiguïsation NER avec la cohérence du texte Q5 (c) semble problématique? Donnez un exemple de problème qui se produit avec nos approches et expliquez pourquoi ce problème se produit."
   ]
  },
  {
   "cell_type": "markdown",
   "metadata": {},
   "source": [
    "**(TO DO) Q5 (a) - 1 point**     \n",
    "\n",
    "a) Revisitez le document qui a été utilisé à Q1 (index 1) et, pour chaque entité, récupérez la forme normalisée de l'entité (le cas échéant) et n'affichez que les formes normalisées ainsi que leurs types NER dans le format suivant (seulement s'il y a est une forme normalisée renvoyée):\n",
    "\n",
    "&emsp; *Original_entity fait référence à Normalized_entity, et est un NER_Type_of_Normalized_Form*\n",
    "\n",
    "Par exemple \"Bourouiba fait référence à Lydia Bourouiba, et est une PERSONNE\" serait imprimé pour une entité."
   ]
  },
  {
   "cell_type": "code",
   "execution_count": 56,
   "metadata": {},
   "outputs": [],
   "source": [
    "# Select document 2\n",
    "doc = df[\"text\"][1]\n",
    "sp_doc_test = sp(doc)"
   ]
  },
  {
   "cell_type": "code",
   "execution_count": 57,
   "metadata": {},
   "outputs": [
    {
     "name": "stdout",
     "output_type": "stream",
     "text": [
      "two metres fait référence à farther than two metres et est un QUANTITY\n",
      "two fait référence à two-metre et est un QUANTITY\n",
      "two metres fait référence à farther than two metres et est un QUANTITY\n",
      "Wells fait référence à W.F. Wells et est un PERSON\n",
      "Bourouiba fait référence à Bourouiba/MIT/ et est un ORG\n",
      "Loeb fait référence à Mark Loeb et est un PERSON\n",
      "Loeb fait référence à Mark Loeb et est un PERSON\n",
      "McGeer fait référence à Allison McGeer et est un PERSON\n",
      "McGeer fait référence à Allison McGeer et est un PERSON\n",
      "2 fait référence à 2009 et est un DATE\n",
      "Bourouiba fait référence à Bourouiba/MIT/ et est un ORG\n",
      "Bourouiba fait référence à Bourouiba/MIT/ et est un ORG\n",
      "Bourouiba fait référence à Bourouiba/MIT/ et est un ORG\n",
      "two metres fait référence à farther than two metres et est un QUANTITY\n",
      "two fait référence à two-metre et est un QUANTITY\n",
      "two fait référence à two-metre et est un QUANTITY\n",
      "Second fait référence à Second Opinion et est un LAW\n",
      "McMaster fait référence à McMaster University et est un ORG\n",
      "Loeb fait référence à Mark Loeb et est un PERSON\n",
      "U.S. fait référence à U.S. National Institutes of Health et est un ORG\n",
      "U.S. National Institutes of Health fait référence à the U.S. National Institutes of Health et est un ORG\n",
      "Journal of the Royal Society Interface fait référence à Penn State University/Journal of the Royal Society Interface et est un ORG\n",
      "U.S. fait référence à U.S. National Institutes of Health et est un ORG\n"
     ]
    }
   ],
   "source": [
    "# TODO: Loop through and print the assigned phrase with the appropriate text\n",
    "# Example of the print statement structure (from document 1): Bourouiba refers to Lydia Bourouiba, and is a PERSON\n",
    "\n",
    "for entity in sp_doc_test.ents:\n",
    "    if assign_normalized_form(entity, sp_doc_test.ents) != \"\":\n",
    "        print(assign_normalized_form(entity, sp_doc_test.ents))"
   ]
  },
  {
   "cell_type": "markdown",
   "metadata": {},
   "source": [
    "**(TO DO) Q5 (b) - 2 points**     \n",
    "\n",
    "b) Définissez un algorithme plus robuste qui combine les algorithmes conçus dans les dernières questions. Cet algorithme doit accepter une entité spécifique et une liste d'entités en entrée, rechercher la forme normalisée de l'entité spécifique (le cas échéant) et renvoyer un type NER pour la forme normalisée basée sur le type NER le plus courant pour cette entité. Si aucune forme normalisée n'est trouvée, l'algorithme doit continuer en utilisant l'entité spécifique. Vous devez également renvoyer le nom de la forme normalisée (ou de l'entité d'origine s'il n'y a pas de forme normalisée)."
   ]
  },
  {
   "cell_type": "code",
   "execution_count": 61,
   "metadata": {},
   "outputs": [],
   "source": [
    "def normalized_most_common_type(entity, entities):\n",
    "    '''\n",
    "    Determine the normalized form of an entity (if any; if none just use the entity) and\n",
    "    return the most frequent NER type for that normalized form from a list of entities.\n",
    "    '''\n",
    "    # TODO (Recall to return the name and the NER type that is found)\n",
    "    common_NER = \"\"\n",
    "    normalized_most_common_type = \"\"\n",
    "    for token in entities:\n",
    "        if (str(entity) in str(token.text)) and (str(entity) != str(token.text)): #if the entity is in the token and they are not equal to each other, then the token is the normalized form of the entity\n",
    "            common_NER = most_common_type(token.text, entities) #find the common NER of the token and assign it to the entity\n",
    "            normalized_most_common_type = str(entity) + \" fait référence à \" + token.text + \" et est un \" + common_NER\n",
    "    if normalized_most_common_type == \"\": #if there is no normalized form, then write the correct sentence\n",
    "        common_NER = most_common_type(entity, entities)\n",
    "        normalized_most_common_type = str(entity) + \" fait référence à \" + str(entity) + \" et est un \" + common_NER\n",
    "    return normalized_most_common_type\n",
    "        "
   ]
  },
  {
   "cell_type": "markdown",
   "metadata": {},
   "source": [
    "**(TO DO) Q5 (c) - 1 point**   \n",
    "\n",
    "c) Pour le septième document (index 6), exécutez l'algorithme défini en b) pour chaque entité, en imprimant ce qui suit pour chaque entité:\n",
    "\n",
    "&emsp; *Original_entity fait référence à Normalized_entity (si aucun, identique à l'original), et est un Most_common_NER_type_of_normalized_form* "
   ]
  },
  {
   "cell_type": "code",
   "execution_count": 62,
   "metadata": {},
   "outputs": [],
   "source": [
    "# Load the document's text\n",
    "doc = df[\"text\"][6]\n",
    "sp_doc_test = sp(doc)"
   ]
  },
  {
   "cell_type": "code",
   "execution_count": 63,
   "metadata": {},
   "outputs": [
    {
     "name": "stdout",
     "output_type": "stream",
     "text": [
      "Coronavirus Brief fait référence à Coronavirus Brief et est un ORG\n",
      "CBC fait référence à CBC News et est un ORG\n",
      "Canada fait référence à Health Canada et est un ORG\n",
      "C.D. Howe fait référence à the C.D. Howe Institute's Business Cycle Council et est un ORG\n",
      "Ontario fait référence à Ontario et est un GPE\n",
      "Monday fait référence à Monday et est un DATE\n",
      "Alberta fait référence à Alberta et est un GPE\n",
      "first fait référence à first et est un ORDINAL\n",
      "Saturday fait référence à Saturday et est un DATE\n",
      "Air Canada fait référence à Air Canada et est un ORG\n",
      "Christmas fait référence à Christmas et est un DATE\n",
      "Canadians fait référence à Canadians et est un NORP\n",
      "more than $1.2 million fait référence à more than $1.2 million et est un MONEY\n",
      "England fait référence à England et est un GPE\n",
      "Peter Cziborra/Reuters fait référence à Peter Cziborra/Reuters et est un PERSON\n",
      "months fait référence à less than two months old et est un DATE\n",
      "CBC fait référence à CBC News et est un ORG\n",
      "Andre Mayer fait référence à Andre Mayer et est un PERSON\n",
      "Canada fait référence à Health Canada et est un ORG\n",
      "19th-century fait référence à 19th-century et est un DATE\n",
      "2013 fait référence à 2013 et est un DATE\n",
      "Calgary fait référence à the University of Calgary et est un ORG\n",
      "John Brown fait référence à John Brown et est un PERSON\n",
      "the University of Calgary fait référence à the University of Calgary et est un ORG\n",
      "two-metre fait référence à two-metre et est un TIME\n",
      "Last week fait référence à Last week et est un DATE\n",
      "Italian fait référence à Italian et est un NORP\n",
      "Milan fait référence à Milan et est un GPE\n",
      "35 kilometres fait référence à 35 kilometres et est un QUANTITY\n",
      "Berlin fait référence à Berlin et est un GPE\n",
      "Budapest fait référence à Budapest et est un GPE\n",
      "Mexico City fait référence à Mexico City et est un GPE\n",
      "Ahsan Habib fait référence à Ahsan Habib et est un PERSON\n",
      "Dalhousie University fait référence à Dalhousie University et est un ORG\n",
      "U.S. fait référence à U.S. et est un GPE\n",
      "Atlanta fait référence à Atlanta et est un GPE\n",
      "Chicago fait référence à Chicago et est un GPE\n",
      "Denver fait référence à Denver et est un GPE\n",
      "Habib fait référence à Ahsan Habib et est un PERSON\n",
      "Brown fait référence à John Brown et est un PERSON\n",
      "Calgary fait référence à the University of Calgary et est un ORG\n",
      "Housebrand fait référence à Housebrand et est un ORG\n",
      "Zoom fait référence à Zoom et est un PERSON\n",
      "The National The At Issue fait référence à The National The At Issue et est un WORK_OF_ART\n",
      "Quebec fait référence à Quebec et est un GPE\n",
      "Conservative fait référence à Conservative et est un NORP\n",
      "BRIEF Canada fait référence à BRIEF Canada et est un ORG\n",
      "C.D. Howe fait référence à the C.D. Howe Institute's Business Cycle Council et est un ORG\n",
      "Canada fait référence à Health Canada et est un ORG\n",
      "the C.D. Howe Institute's Business Cycle Council fait référence à the C.D. Howe Institute's Business Cycle Council et est un ORG\n",
      "today fait référence à today et est un DATE\n",
      "Canada fait référence à Health Canada et est un ORG\n",
      "February fait référence à February et est un DATE\n",
      "one fait référence à more than one et est un CARDINAL\n",
      "two fait référence à CBC News Network et est un ORG\n",
      "three-month fait référence à three-month et est un DATE\n",
      "two quarters fait référence à two quarters et est un DATE\n",
      "less than two months old fait référence à less than two months old et est un DATE\n",
      "Canada fait référence à Health Canada et est un ORG\n",
      "first fait référence à first et est un ORDINAL\n",
      "Canada fait référence à Health Canada et est un ORG\n",
      "2008 fait référence à 2008 et est un DATE\n",
      "March fait référence à March et est un DATE\n",
      "April fait référence à April et est un DATE\n",
      "the entire month fait référence à the entire month et est un DATE\n",
      "Canada fait référence à Health Canada et est un ORG\n",
      "Ontario fait référence à Ontario et est un GPE\n",
      "Monday fait référence à Monday et est un DATE\n",
      "Alberta fait référence à Alberta et est un GPE\n",
      "Saturday fait référence à Saturday et est un DATE\n",
      "Ontario fait référence à Ontario et est un GPE\n",
      "today fait référence à today et est un DATE\n",
      "Monday fait référence à Monday et est un DATE\n",
      "Today fait référence à Today et est un DATE\n",
      "Doug Ford fait référence à Doug Ford et est un PERSON\n",
      "Alberta fait référence à Alberta et est un GPE\n",
      "Jason Kenney fait référence à Jason Kenney et est un PERSON\n",
      "first fait référence à first et est un ORDINAL\n",
      "Alberta fait référence à Alberta et est un GPE\n",
      "Saturday fait référence à Saturday et est un DATE\n",
      "mid-May fait référence à mid-May et est un DATE\n",
      "Kenney fait référence à Jason Kenney et est un PERSON\n",
      "Thursday fait référence à Thursday et est un DATE\n",
      "Monday fait référence à Monday et est un DATE\n",
      "the end of the academic year fait référence à the end of the academic year et est un DATE\n",
      "Kenney fait référence à Jason Kenney et est un PERSON\n",
      "summer fait référence à summer et est un DATE\n",
      "Canada fait référence à Health Canada et est un ORG\n",
      "Air Canada fait référence à Air Canada et est un ORG\n",
      "Christmas fait référence à Christmas et est un DATE\n",
      "Air Canada fait référence à Air Canada et est un ORG\n",
      "winter fait référence à winter et est un DATE\n",
      "Canadians fait référence à Canadians et est un NORP\n",
      "Tim Strauss fait référence à Tim Strauss et est un PERSON\n",
      "Canadian fait référence à Canadians et est un NORP\n",
      "Air Canada fait référence à Air Canada et est un ORG\n",
      "more than 90 fait référence à more than 90 et est un CARDINAL\n",
      "Canadian fait référence à Canadians et est un NORP\n",
      "today fait référence à today et est un DATE\n",
      "North American fait référence à North American et est un NORP\n",
      "Air Canada fait référence à Air Canada et est un ORG\n",
      "American Airlines fait référence à American Airlines et est un ORG\n",
      "Transport Canada fait référence à Transport Canada et est un ORG\n",
      "two metres fait référence à two metres et est un QUANTITY\n",
      "Air Canada fait référence à Air Canada et est un ORG\n",
      "Christmas fait référence à Christmas et est un DATE\n",
      "Helane Becker fait référence à Helane Becker et est un PERSON\n",
      "first fait référence à first et est un ORDINAL\n",
      "Canada fait référence à Health Canada et est un ORG\n",
      "CBC News fait référence à CBC News Network et est un ORG\n",
      "covid@cbc.ca fait référence à covid@cbc.ca et est un CARDINAL\n",
      "U.S. fait référence à U.S. et est un GPE\n",
      "U.S. fait référence à U.S. et est un GPE\n",
      "Anthony Fauci fait référence à Anthony Fauci et est un PERSON\n",
      "Canada fait référence à Health Canada et est un ORG\n",
      "Health Canada fait référence à Health Canada et est un ORG\n",
      "Health Canada fait référence à Health Canada et est un ORG\n",
      "Gilead fait référence à Gilead et est un ORG\n",
      "CBC News fait référence à CBC News Network et est un ORG\n",
      "Gilead fait référence à Gilead et est un ORG\n",
      "Canada fait référence à Health Canada et est un ORG\n",
      "Alberta fait référence à Alberta et est un GPE\n",
      "daily fait référence à daily et est un DATE\n",
      "Everly-Ann Toma fait référence à Everly-Ann Toma et est un FAC\n",
      "Grace Horsfall Couldwell fait référence à Grace Horsfall Couldwell et est un ORG\n",
      "Paint fait référence à Paint et est un ORG\n",
      "MJ fait référence à MJ Stead et est un PERSON\n",
      "Facebook fait référence à Facebook Live et est un WORK_OF_ART\n",
      "Alberta fait référence à Alberta et est un GPE\n",
      "MJ Stead fait référence à MJ Stead et est un PERSON\n",
      "Lori Toma fait référence à Lori Toma et est un PERSON\n",
      "Nancy Horsfall Couldwell fait référence à Nancy Horsfall Couldwell et est un PERSON\n",
      "Alta fait référence à Alta et est un WORK_OF_ART\n",
      "MJ Stead fait référence à MJ Stead et est un PERSON\n",
      "Facebook fait référence à Facebook Live et est un WORK_OF_ART\n",
      "Paint fait référence à Paint et est un ORG\n",
      "MJ fait référence à MJ Stead et est un PERSON\n",
      "Facebook Live fait référence à Facebook Live et est un WORK_OF_ART\n",
      "20 fait référence à 2008 et est un DATE\n",
      "30 fait référence à 30 et est un CARDINAL\n",
      "more than 1,500 fait référence à more than 1,500 et est un CARDINAL\n",
      "more than one fait référence à more than one et est un CARDINAL\n",
      "Two years ago fait référence à Two years ago et est un DATE\n",
      "Stead fait référence à MJ Stead et est un PERSON\n",
      "100 days fait référence à 100 days et est un DATE\n",
      "Canada fait référence à Health Canada et est un ORG\n",
      "covid@cbc.ca fait référence à covid@cbc.ca et est un CARDINAL\n",
      "CBC News fait référence à CBC News Network et est un ORG\n",
      "daily fait référence à daily et est un DATE\n",
      "CBC News Network fait référence à CBC News Network et est un ORG\n",
      "CBC News Network fait référence à CBC News Network et est un ORG\n",
      "CBC fait référence à CBC News et est un ORG\n",
      "CBC News Network fait référence à CBC News Network et est un ORG\n",
      "CBC News fait référence à CBC News Network et est un ORG\n"
     ]
    }
   ],
   "source": [
    "# TODO: Loop through and print the assigned phrase with the appropriate text\n",
    "for entity in sp_doc_test.ents:\n",
    "    print(normalized_most_common_type(entity, sp_doc_test.ents))"
   ]
  },
  {
   "cell_type": "markdown",
   "metadata": {},
   "source": [
    "**(TO DO) Q5 (d) - 2 points**     \n",
    "\n",
    "d) Est-ce que l'un des résultats obtenus en effectuant une désambiguïsation NER avec la cohérence du texte Q5 (c) semble problématique? Donnez un exemple de problème qui se produit avec nos approches et expliquez pourquoi ce problème se produit."
   ]
  },
  {
   "cell_type": "markdown",
   "metadata": {},
   "source": [
    "TODO ... \n",
    "\n",
    "Oui, l'un des résulats obtenus semble problématique avec la cohérence du texte. En effet, l'énoncé *Canada fait référence à Health Canada et est un ORG* est fausse. Ce problème se produit, car lorsqu'on cherche la forme normalisée d'un mot, on cherche si ce mot est présent dans autre mot. Dans cet exemple, *Health Canada* est bien une organisation, mais Canada ne l'es pas. Ainsi, lorsqu'on cherche la forme normalisée et qu'on imprime le NER le plus commun, on ne tient pas en compte le sens d'un mot. \n"
   ]
  },
  {
   "cell_type": "markdown",
   "metadata": {},
   "source": [
    "**PARTIE 2 - Linking d'entité / Amélioration du texte**  \n",
    "\n",
    "Pour la deuxième partie de ce notebook, nous explorerons comment nous pouvons améliorer le texte des documents. Dans ce scénario, nous améliorerons le texte en effectuant un linking d'entité. Cela signifie que nous allons essayer plusieurs méthodes pour relier les entités qui sont détectées par le NER de spaCy à une page Web active sur laquelle un lecteur peut cliquer pour obtenir plus d'informations sur l'entité. De nombreux sites Web, tels que Wikipedia, effectuent des linkings d'entités pour permettre d'obtenir plus de contexte lors de la lecture d'un document.\n",
    "\n",
    "Avant d'aller directement dans un exemple à travers le code, voici un exemple de la façon dont un texte sans linking d'entité se compare à un texte avec linking d'entité:\n",
    "\n",
    "Aucun linking d'entité:\n",
    "Pendant la pandémie, des villes américaines telles qu'Atlanta, Chicago et Denver ont apporté plusieurs ajustements à leurs systèmes de transport en commun.\n",
    "\n",
    "Avec linking d'entité:\n",
    "Pendant la pandémie, des villes américaines telles que <a href=\"http://en.wikipedia.org/wiki/Atlanta\"> Atlanta </a>, <a href = \"http://en.wikipedia.org/wiki / Chicago \"> Chicago </a> et <a href=\"http://en.wikipedia.org/wiki/Denver\"> Denver </a> ont apporté plusieurs ajustements à leurs systèmes de transport en commun."
   ]
  },
  {
   "cell_type": "markdown",
   "metadata": {},
   "source": [
    "Étant donné que vous allez concevoir plusieurs méthodes pour effectuer un linking d'entité simple, voici un exemple qui montre comment nous pouvons effectuer manuellement la linking d'entités sans aucune ressource. Cela montrera comment cela peut être effectué afin que vous puissiez utiliser et créer des ressources pour créer vous-même des algorithmes de linking d'entités simples."
   ]
  },
  {
   "cell_type": "code",
   "execution_count": 67,
   "metadata": {},
   "outputs": [],
   "source": [
    "sentence_example = \"During the pandemic, U.S. cities such as Atlanta, Chicago and Denver have made several adjustments to their transit systems\"\n",
    "# Parse the example sentence\n",
    "text_sp = sp(sentence_example)\n",
    "# This will store the enhanced version of the text\n",
    "enhanced_text = sentence_example\n",
    "# Loop through the entities that spaCy has found and replace them as needed to be in expanded form \n",
    "for token in text_sp.ents:\n",
    "    if token.text == \"Atlanta\":\n",
    "        enhanced_text = enhanced_text.replace(token.text, \"<a href=\\\"http://en.wikipedia.org/wiki/Atlanta\\\">Atlanta</a>\")\n",
    "    elif token.text == \"Chicago\":\n",
    "        enhanced_text = enhanced_text.replace(token.text, \"<a href=\\\"http://en.wikipedia.org/wiki/Chicago\\\">Chicago</a>\")\n",
    "    elif token.text == \"Denver\":\n",
    "        enhanced_text = enhanced_text.replace(token.text, \"<a href=\\\"http://en.wikipedia.org/wiki/Denver\\\">Denver</a>\")\n",
    "    \n",
    "# Write the result as an HTML file (open to view the enhanced text!)\n",
    "with open(\"enhanced_example.html\", \"w\", encoding=\"utf-8\") as f:\n",
    "    f.write(enhanced_text)\n",
    "    f.close()"
   ]
  },
  {
   "cell_type": "markdown",
   "metadata": {},
   "source": [
    "En ouvrant le fichier *Enhanced_example.html* qui se trouve maintenant dans le même répertoire que ce notebook, vous pourrez voir comment nous avons liés les entités du texte.\n",
    "\n",
    "Cela dit, le processus ci-dessus est assez pauvre. Il fallait indiquer manuellement les entités avec lesquelles travailler et l'URL pour y établir un lien. Ainsi, vous répondrez aux questions pour le reste de cette section où vous utilisez et/ou créez des ressources qui ont été assemblées manuellement pour lier des entités dans des méthodes plus générales/robustes. Il existe de nombreuses techniques de correspondance de chaînes différentes qui peuvent être utilisées pour aider à le linking d'entités, mais nous nous en tiendrons aux approches de base pour ce notebook.\n",
    "\n",
    "Dans la question suivante, vous commencerez à travailler avec des ressources externes. Ainsi, ci-dessous, nous chargeons le fichier *US_Cities.csv* à utiliser pour améliorer le texte avec les villes américaines dans la question suivante. Notez que chaque fichier contient deux colonnes; *Texte* et *URL*. *Texte* fait référence à un nom d'entité et *URL* fait référence à une *URL* correspondante qui fournit plus d'informations concernant le *Texte*. L'exemple ci-dessous montre comment ces fichiers doivent être chargés et sont accessibles."
   ]
  },
  {
   "cell_type": "code",
   "execution_count": 68,
   "metadata": {},
   "outputs": [
    {
     "name": "stdout",
     "output_type": "stream",
     "text": [
      "New York City - https://en.wikipedia.org/wiki/New_York_City\n",
      "Los Angelas - https://en.wikipedia.org/wiki/Los_Angeles\n",
      "Chicago - https://en.wikipedia.org/wiki/Chicago\n",
      "Houston - https://en.wikipedia.org/wiki/Houston\n",
      "Phoenix - https://en.wikipedia.org/wiki/Phoenix,_Arizona\n",
      "Philadelphia - https://en.wikipedia.org/wiki/Philadelphia\n",
      "San Antonio - https://en.wikipedia.org/wiki/San_Antonio\n",
      "San Diego - https://en.wikipedia.org/wiki/San_Diego\n",
      "Dallas - https://en.wikipedia.org/wiki/Dallas\n",
      "San Jose - https://en.wikipedia.org/wiki/San_Jose,_California\n",
      "Austin - https://en.wikipedia.org/wiki/Austin,_Texas\n",
      "Jacksonville - https://en.wikipedia.org/wiki/Jacksonville,_Florida\n",
      "Fort Worth - https://en.wikipedia.org/wiki/Fort_Worth,_Texas\n",
      "Columbus - https://en.wikipedia.org/wiki/Columbus,_Ohio\n",
      "Charlotte - https://en.wikipedia.org/wiki/Charlotte,_North_Carolina\n",
      "San Francisco - https://en.wikipedia.org/wiki/San_Francisco\n",
      "Indianapolis - https://en.wikipedia.org/wiki/Indianapolis\n",
      "Seattle - https://en.wikipedia.org/wiki/Seattle\n",
      "Denver - https://en.wikipedia.org/wiki/Denver\n",
      "Washington - https://en.wikipedia.org/wiki/Washington,_D.C.\n",
      "Boston - https://en.wikipedia.org/wiki/Boston\n",
      "El Paso - https://en.wikipedia.org/wiki/El_Paso,_Texas\n",
      "Nashville - https://en.wikipedia.org/wiki/Nashville,_Tennessee\n",
      "Detroit - https://en.wikipedia.org/wiki/Detroit\n",
      "Oklahoma City - https://en.wikipedia.org/wiki/Oklahoma_City\n",
      "Atlanta - https://en.wikipedia.org/wiki/Atlanta\n"
     ]
    }
   ],
   "source": [
    "# Start with the string match approach (exact match)\n",
    "# File content extracted from https://en.wikipedia.org/wiki/List_of_United_States_cities_by_population\n",
    "df_cities = pd.read_csv(\"US_Cities.csv\")\n",
    "# Print the Text and URL from each row, showcasing how to loop through the contents \n",
    "for i, row in df_cities.iterrows():\n",
    "    print(row[\"Text\"] + \" - \" + row[\"URL\"])"
   ]
  },
  {
   "cell_type": "markdown",
   "metadata": {},
   "source": [
    "**(TO DO) Q6 - 3 points**  \n",
    "\n",
    "Complétez la fonction *enhan_text_with_resource* ci-dessous. Il reçoit le texte du document via *document_text*, le dataframe de la ressource externe pour améliorer le texte avec comme *resource_df*, et le nom du fichier dans lequel vous allez sortir les résultats (un fichier .html) comme *filename*.\n",
    "\n",
    "Cette fonction analyse le texte du document et remplace toutes les *entités* (.ents) trouvées dans le texte par:\n",
    "<a href=\\\"Some URL\">Texte d'entité</a\\>\n",
    "\n",
    "Après avoir amélioré le texte avec le linking d'entité, nous écrivons le texte amélioré dans un fichier html et renvoyons le texte amélioré"
   ]
  },
  {
   "cell_type": "code",
   "execution_count": 97,
   "metadata": {},
   "outputs": [],
   "source": [
    "def enhance_text_with_resource(document_text, resource_df, filename):\n",
    "    '''\n",
    "    With a resource and document's text, enhance any entity found in the resource by linking the entity to\n",
    "    the appropriate webpage.\n",
    "    Write the file to the appropriate filename and return the enhanced text\n",
    "    '''\n",
    "    enhanced_text = document_text\n",
    "    # TODO: Parse the document with spaCy\n",
    "    document_sp = sp(enhanced_text)\n",
    "    # TODO: Go through the entities and edit the document's text accordingly\n",
    "    # Note: Be sure to not duplicate your enhancementes\n",
    "    \n",
    "    df_ressource = pd.read_csv(resource_df) #read csv file\n",
    "    df_ressource.set_index(\"Text\", inplace=True) #set the DataFrame index using existing columns \n",
    "    for token in document_sp.ents: \n",
    "        for index in df_ressource.index:\n",
    "            if index in token.text: #if a word in the csv file and a token in a file match, enhance the text\n",
    "                enhanced_text = enhanced_text.replace(token.text, (\"<a href=\\\"\" + str(df_ressource.loc[index][\"URL\"]) + \"\\\">\" + token.text + \"</a>\"))\n",
    "    \n",
    "    # Write the result as an HTML file\n",
    "    \n",
    "    with open(filename, \"w\", encoding=\"utf-8\") as f:\n",
    "        f.write(enhanced_text)\n",
    "        f.close()\n",
    "    return enhanced_text"
   ]
  },
  {
   "cell_type": "markdown",
   "metadata": {},
   "source": [
    "**(TO DO) Q7 - 3 points**  \n",
    "\n",
    "Grâce à l'algorithme d'amélioration du texte conçu (*enhan_text_with_resource*), vous allez maintenant tester la fonctionnalité lors de l'exécution de l'algorithme avec trois ressources différentes. Vous testerez l'algorithme pour chaque document déjà chargé dans la cellule de code et exécuterez les algorithmes avec les trois ressources suivantes:\n",
    "\n",
    "1) Un fichier contenant plusieurs villes américaines: *US_Cities.csv*\n",
    "\n",
    "2) Un fichier contenant toutes les provinces du Canada: *Canada_Provinces.csv*\n",
    "\n",
    "3) Un fichier contenant plusieurs universités canadiennes: *Canada_Universities.csv*"
   ]
  },
  {
   "cell_type": "code",
   "execution_count": 102,
   "metadata": {},
   "outputs": [
    {
     "data": {
      "text/plain": [
       "'The latest:  Federal government announces new measures to mobilize scientists. Saskatchewan unveils five-stage plan to reopen\\xa0its\\xa0economy. The Calgary Stampede is cancelled for the first time in nearly a century. North Korea claims it has had no coronavirus cases. COVID-19 has brought research into other medical conditions to a grinding halt. Ending Quebec\\'s lockdown could mean freedom for some, but not for all. The pandemic is giving some countries political cover for controversial acts. INTERACTIVE |\\xa0See the latest data on coronavirus cases\\xa0in Canada. Have a coronavirus question or news tip for CBC News? Email: Covid@cbc.ca  The federal government has announced a $1.1-billion plan\\xa0to marshal Canada\\'s scientific community in the fight against the coronavirus, as some provinces with relatively fewer cases begin to weigh how they will relax restrictions put in place to slow the spread of\\xa0COVID-19. Scientists around the globe are scrambling to come up with tests, treatments to lessen the severity of the disease and\\xa0ultimately, a vaccine to protect against the coronavirus that has killed more than 2,000 Canadians and almost 200,000 people worldwide. At his Thursday news conference outside Rideau Cottage in Ottawa, Prime Minister Justin Trudeau said the government was putting in place a three-point medical and research strategy. WATCH | Trudeau lays out the government\\'s strategy: Prime Minister Justin Trudeau announced a $1.1 billion strategy to fund COVID-19 medical research and a task force to study immunity. 3:53 This plan includes:  $155 million for research on vaccines and other treatments, support for clinical trials\\xa0and expanding national testing and modelling.\\xa0 $662 million for clinical trials led by Canada. $350 million to expand national testing and modelling of COVID-19, including a COVID-19 immunity task force that includes Dr. David Naylor, Dr. Catherine Hankins, Dr. Tim Evans, Dr. Theresa Tam and Dr. Mona Nemer.  In mid-March, the Trudeau government\\xa0committed $275 million for research, as part of the first emergency aid package. That was supplemented later in the month with the creation of a new strategic innovation fund, which provided another $192 million to specific companies and research institutions working on the development of drugs and vaccines. A laboratory technologist at LifeLabs demonstrates one of the steps taken when a specimen is tested for COVID-19 at the company\\'s lab in Surrey, B.C., on March 26. (Darryl Dyck/The Canadian Press) As well, the government has provided $52 million through national granting councils to almost 100 research teams across the country. With several provinces beginning to talk cautiously about reopening the economy, which has been virtually shut down since mid-March, the pressure is on to find reliable, rapid tests to determine who is infected with the virus and who has developed immunity to it. Saskatchewan\\'s reopening plan Saskatchewan became the first province Thursday to outline a concrete plan\\xa0for how some businesses and services could be allowed to resume next month provided\\xa0the number of cases there stays low.\\xa0 Premier Scott Moe said\\xa0restrictions will be lifted\\xa0May 4 for dentists\\' offices, optometry clinics and physical therapy providers. Golf courses will reopen\\xa0May 15 and retail shops selling clothing, books, flowers and sporting goods might be allowed to open their doors on May 19. A runner and walker keep their distance from each other on the Charlottetown boardwalk in late March. P.E.I. is among the provinces eyeing the relaxation of some COVID-19-related restrictions. (Brian McInnis/CBC) Hairdressers and barbers could also start seeing clients again on May 19, but employees working directly with the public would have to wear masks. Physical distancing and strict cleanliness standards would have to be maintained through every phase.\\xa0 For the next\\xa0phases\\xa0— for which there are no start dates yet —\\xa0officials would consider lifting restrictions on indoor and outdoor recreational and entertainment facilities and bumping up the size of allowable gatherings to 30 people from the current 10. The final phase of the plan would include\\xa0lifting restrictions on crowd sizes, visits to long-term care facilities and non-essential travel. Moe has already said those will stay put for some time. The government\\'s plan doesn\\'t provide a timeline for when gyms might be allowed to operate or when daycare capacity might be increased. Nor does it give a time frame for food services and restaurants to reopen, but when they do, they will be expected to operate at half their capacity. Prince Edward Island, where the COVID-19 caseload is low, is aiming to ease measures put in place to slow the spread in late April and reopen businesses in mid-May. \\'Not exactly islands\\'\\xa0 Dr. Craig Jenne, an infectious disease researcher at <a href=\"Text\\nUniversity of Calgary    https://en.wikipedia.org/wiki/University_of_Al...\\nUniversity of Calgary    https://en.wikipedia.org/wiki/University_of_Al...\\nName: URL, dtype: object\"><a href=\"Text\\nUniversity of Calgary    https://en.wikipedia.org/wiki/University_of_Al...\\nUniversity of Calgary    https://en.wikipedia.org/wiki/University_of_Al...\\nName: URL, dtype: object\">the University of Calgary</a></a>, said easing restrictions in one province could present challenges for others. \"Many provinces in Canada have no hard borders,\" he said in an interview with The Canadian Press. \"Alberta, Saskatchewan, Manitoba — we are not exactly islands where we can cut off travel between provinces. \"We are going to have to make sure we\\'re on the same page with this.\" \\'Failing our parents, our grandparents\\': Trudeau Trudeau said\\xa0the military will respond to provincial requests for assistance at long-term care facilities. But he said\\xa0the measure is a short-term solution and that Canada should not need soldiers to take care of seniors. \"If you\\'re angry, frustrated, scared, you\\'re right to feel this way. We can do better. We need to do better. Because we are failing our parents, our grandparents, our elders.\" WATCH | Should long-term care homes be federally regulated? Prime Minister Justin Trudeau spoke with reporters on Thursday. 1:12 The comments today followed requests by Ontario and Quebec on Wednesday for hundreds of soldiers to help long-term care facilities that have been hit hard by COVID-19. The Canadian Armed Forces is now assessing what more it can provide to respond to these requests. Trudeau said\\xa0the government is sending the military to help in long-term care homes in Ontario and Quebec\\xa0—\\xa0130 troops were sent to help five long-term care facilities in Quebec last week\\xa0—\\xa0but said\\xa0it should never have come to this, and there are tough questions to be asked once the crisis is over. The outbreak of COVID-19 in long-term care homes has outraged many Canadians and Trudeau said\\xa0that outrage is not misplaced. WATCH | Dr. Nathan Stall says there wasn\\'t enough attention paid to long-term care residences during pre-pandemic planning: Dr. Nathan Stall, a geriatrician from Sinai Health System, says there wasn\\'t enough attention paid to long-term care residences during pre-pandemic planning. 1:16 During his daily briefing Thursday, Ontario Premier Doug Ford, whose mother-in-law is in a long-term care home and has just tested positive for COVID-19,\\xa0paused to gather himself before pledging to improve Ontario\\'s long-term care system. \"I recognize the system is broken,\" he later said. WATCH | Doug Ford\\'s full response: His voice cracking, Ontario Premier Doug Ford vowed to \\'do better\\' for the people in long-term care facilities. 1:27 Quebec resident Jonathan Marchand, who has muscular dystrophy, told CBC News\\xa0that it\\'s not only the elderly who are vulnerable in those long-term care institutions.\\xa0 \"It\\'s not a safe environment,\" he said. \"What I want is to get out of here.\" WATCH | Quebec man talks about feeling unsafe in his long-term care home: Quebec long-term care resident Jonathan Marchand, who has muscular dystrophy, says he wants the right to be cared for outside of an institution. 5:08 Thousands of layoffs in transportation The pandemic also continues to wreak havoc on\\xa0the Canadian economy. Calgary-based WestJet says a further 3,000 of its workers will be laid off in early May as demand for flights craters. In Toronto, the city\\'s transit commission said it plans to temporarily lay off 1,200 workers. As of 7\\xa0p.m. ET Thursday, there were 2,232\\xa0COVID-19-related deaths in Canada, plus two reported COVID-19-linked deaths of Canadians abroad, according to a\\xa0CBC News tally\\xa0based on provincial and local health data, as well as CBC reporting. There are 42,110 confirmed and presumptive cases, and 14,774\\xa0resolved cases among the provinces and territories that make such data public.\\xa0 INTERACTIVECoronavirus tracker: 56,000+ cases in Canada on Saturday\\'We have a whole globe to protect\\': Pandemic vaccine research speeds up Here\\'s a look at what\\'s happening in Canada, the U.S. and around the world. Here\\'s a look at what\\'s happening in the provinces and territories British Columbia has confirmed an outbreak at a second poultry processing plant.\\xa0Provincial Health Officer\\xa0Dr. Bonnie Henry\\xa0said Thursday that two\\xa0cases have been identified at the\\xa0Superior Poultry plant in Coquitlam, a sister plant to the United Poultry location in Vancouver, where 29 people have\\xa0tested positive for the coronavirus.\\xa0Read more about what\\'s happening in B.C. Alberta has cancelled the Calgary Stampede for the first time in almost 100 years. The July event typically draws a million spectators.\\xa0Organizers have already laid off 80 per cent of its staff.\\xa0Read more about what\\'s happening in Alberta. WATCH |\\xa0COVID-19 outbreak forces Alberta meat-processing plant to close: A COVID-19 outbreak at the Cargill meat processing plant in High River, Alta., has forced the facility to temporarily close, raising concerns about beef prices and supply. 3:03 In Saskatchewan, a team of\\xa0College of Engineering grad students and staff at the University of Saskatchewan\\xa0is trying to create a new reusable medical mask in an effort to reduce the global shortage of N95 respirators.\\xa0The team is collaborating with the Saskatchewan Health Authority.\\xa0Read more about what\\'s happening in Saskatchewan. Manitoba reported\\xa0five new cases of COVID-19,\\xa0its biggest single-day jump in nearly two weeks.\\xa0Of the new patients, two are in their 20s, two in their 30s and one is\\xa0in their 80s.\\xa0Read more about what\\'s happening in Manitoba. Ontario, environmental groups are raising concerns after the government changed its rules to allow it to approve some projects without public consultation. The provincial environment minister says the exemption is intended only for projects related to the pandemic that need to be built quickly, but the bulletin on the province\\'s website doesn\\'t specify that. Read about that issue here, and\\xa0read more about what\\'s happening in Ontario here. In Quebec, nurses in Montreal who have volunteered to work in a private long-term care home where more than half the residents have tested positive for COVID-19 say there is \"shockingly little\" protective gear available for employees. CHSLD Vigi Mont-Royal has more than 150 residents who have tested positive for the virus. Read more about the care home here, and\\xa0read more about what\\'s happening in Quebec here.\\xa0 New Brunswick officials warned the province is not in the clear, even though only 14 active cases remain there. Chief Medical Officer Dr. Jennifer Russell said the province\\'s success has \"given us a chance to get ready for what comes next,\" but that physical distancing will be in place for \"weeks and months ahead.\" Premier Blaine\\xa0Higgs said businesses should prepare to reopen, while also respecting physical-distancing measures.\\xa0Read more about what\\'s happening in N.B.  Web searches during COVID-19 reveal Canadians\\' anxieties  Nova Scotia\\'s four new COVID-19 deaths are all connected to long-term care homes. The province has also seen higher infection rates among women, who account for 59 per cent of cases.\\xa0Chief Medical Officer Dr. Robert Strang says it\\'s because more women live in long-term care homes and more women work in those facilities, too.\\xa0Read more about what\\'s happening in Nova Scotia. Prince Edward Island, with\\xa0only two active cases, is focusing on screening people at its small number of entry points. Checkpoints at Confederation Bridge and Charlottetown Airport have been in place since March 21, and now the province says people could be on the hook for a quick return flight\\xa0if their travel there is not essential.\\xa0Read more about what\\'s happening in P.E.I. WATCH | What to do when you return from the grocery store: Andrew Chang explains what you should do after you’ve brought your supplies home from the grocery store. 1:05 In Newfoundland and Labrador,\\xa0chief medical officer of\\xa0health Dr. Janice Fitzgerald says the province will be able to relax some\\xa0distancing measures in the near future, but warns that residents shouldn\\'t expect a full return to normal any\\xa0time soon. There have been no new cases reported in the province for five days.\\xa0Read more about what\\'s happening in N.L. In the North,\\xa0territorial health authorities are testing less than before, despite expanded criteria. Dr. Sarah Cook, the Northwest Territories\\' territorial medical director, said that\\'s partly because other public health measures have been effective.\\xa0Read more about what\\'s happening across the North. Here\\'s a look at what\\'s happening in the U.S. From The Associated Press and Reuters, updated at 7:30\\xa0p.m. ET The U.S. House of Representatives on Thursday passed a $484 billion US bill to expand federal loans to small businesses impacted by the coronavirus outbreak and hospitals overwhelmed by patients suffering from COVID-19. By a vote of 388-5, the House passed the measure, which was unanimously approved on Tuesday by the Senate. It now goes to President Donald Trump for signing into law.\\xa0 The House also approved a select committee, with subpoena power, to probe the U.S. response to the coronavirus. It will have broad powers to investigate U.S. preparedness, how federal dollars are being spent, and Trump administration deliberations. That aid came as another\\xa04.4 million Americans filed for government jobless benefits for the first time last week, as joblessness continues to hit the U.S. economy at a breathtaking pace. Bronx Draft House manager Jonas Silva hands over a free meal to a first responder on April 23, 2020, in New York City. On Thursday, Gov. Andrew Cuomo said a new study suggested 2.7 million residents across the state may already have antibodies for COVID-19. (David Dee Delgado/Getty Images) The figure brings the total number of newly jobless people in the United States\\xa0in the past five weeks to more than 26 million. That\\'s more than the entire number of new jobs created in the U.S. economy since the financial crisis of 2008. As of 9\\xa0p.m., there were more than\\xa0867,000 confirmed cases and nearly 50,000 deaths in the country, according to a Johns Hopkins University tally.\\xa0  1st known U.S. coronavirus death occurred weeks earlier than thought in California Gun killings in U.S. cities: The scourge not even a pandemic lockdown can stop  On Thursday,\\xa0New York Gov. Andrew\\xa0Cuomo announced a screening of 3,000 people in the state found nearly 14 per cent tested positive for antibodies for the\\xa0coronavirus, suggesting that 2.7 million residents across New York may have been infected with the disease.\\xa0 Cuomo noted that the survey was preliminary and had limitations, though at least initially indicated a fatality rate of about 0.5 per cent of confirmed cases, far lower than some experts feared.\\xa0\\xa0 Visitors to the Department of Labor are turned away at the door by personnel due to closures over coronavirus concerns, Wednesday, March 18, 2020, in New York. Applications for jobless benefits are surging in some states as coronavirus concerns shake the U.S. economy. The sharp increase comes as governments have ordered millions of workers, students and shoppers to stay home as a precaution against spreading the virus that causes the COVID-19 disease.  (AP Photo/John Minchillo) (John Minchillo/Associated Press)\\xa0 Meanwhile, shares of American pharmaceutical company Gilead Sciences fell more than\\xa0four\\xa0per cent Thursday, after the Financial Times reported its experimental coronavirus drug failed its first randomized clinical trial. The report cited draft documents published accidentally by the World Health Organization. In a statement on Friday, Gilead said the post included inappropriate characterizations of the study and that the study was terminated early due to low enrolment and, as a result, it was underpowered to enable statistically meaningful conclusions. Here\\'s what\\'s happening around the world From The Associated Press and Reuters, updated at 7:30 p.m. ET European Union leaders edged forward on Thursday toward joint financing of an economic recovery from the coronavirus pandemic\\xa0by agreeing to ask the European Commission to work out the details of such common support. A pupil walks between distanced tables as she arrives for a test at a secondary school in Berlin on April 22. (Tobias Schwarz/AFP/Getty Images) Still, a decision is likely months away as member countries disagree on how much financial aid should be given out.\\xa0 Austria, Denmark, Sweden and the Netherlands all opposed recovery aid through grants, while a broader northern camp — including Germany — were in favour of linking a new Recovery Fund to the bloc\\'s next long-term budget for 2021-27, sources said.   EU holds critical virtual summit on setting yearslong budget in a time of pandemic   Hard-hit Italy called for a Recovery Fund of 1.5 trillion euros\\xa0($2.3 trillion Cdn) as well as grants to member states, while French President Emmanuel Macron said Europe\\'s response required financial transfers to the hardest-hit states, and not just loans. Macron also said the European project had no future if member states failed to respond to the \"exceptional shock.\"\\xa0\\xa0\\xa0 The World Health Organization said it would announce a \"landmark collaboration\" on Friday to speed development of safe, effective drugs, tests and vaccines to prevent, diagnose and treat COVID-19. The Geneva-based agency, in a brief statement issued late on Thursday, said the initiative with partners aims to make technologies against the disease caused by the novel coronavirus \"accessible to everyone who needs them, worldwide,\" but gave no details. With more than 22,000 officially recorded deaths, officials in Spain are now preparing for rolling back some of the strict lockdown\\xa0restrictions. The confinement has helped slow the daily contagion rate increase from more than 20 per cent\\xa0to less than two\\xa0per cent, although Spain has not been testing widely and the real contagion is believed to be higher. Health-care workers attend a coronavirus patient at the intensive care unit of the Principe de Asturias hospital in Alcala de Henares, near Madrid, on April 22. (Pierre-Philippe Marcou/AFP/Getty Images) China says Australian calls for an independent investigation into the cause of the coronavirus outbreak are politically motivated and unhelpful in dealing with the global pandemic.\\xa0Australia is among a number of countries and localities that are calling for more information from China about where the virus originated and whether all efforts were made to stop it spreading across China and then around the globe. China also said on Thursday\\xa0it would donate a further $30 million US to the World Health Organization, about a week after U.S. President Donald Trump announced that U.S. funding would be halted while Washington reviewed the WHO\\'s role \"in severely mismanaging and covering up the spread of the coronavirus.\"\\xa0 British Prime Minister Boris Johnson is planning to return to work as early as Monday after being hospitalized earlier this month with COVID-19, the Telegraph reported, even as the U.K.\\xa0economy is crumbling under the strain of the coronavirus lockdown. A business owner uses a thermal fogger as he disinfects trucks at a haulage firm in Barnsley, south Yorkshire, U.K., on April 22. (Oli Scarff/AFP/Getty Images) North Korea has told the World Health Organization it tested 740 people for the new coronavirus as of April 17 but that all came out negative.\\xa0That claim is being questioned by many outside experts. South Korea\\'s\\xa0health authorities are planning to soon begin antibody tests to learn how widespread the coronavirus infection is within the population. They are also researching how long people maintain immunity after recovering from COVID-19.\\xa0 South Africa\\'s President Cyril Ramaphosa said the government will allow a partial reopening of the economy on May 1, with travel restrictions eased and some industries allowed to operate under a five-level risk system. International borders will remain closed while travel will be only allowed for essential services. COVID-19 cases surged 43 per cent in the past week across\\xa0Africa, reaching 26,000 according to the director of the Africa Centers for Disease Control and Prevention. The figures underscored a recent warning from the World Health Organization that the virus could kill more than 300,000 people in the continent and push 30 million into desperate poverty.\\xa0 Ecuador\\'s health minister said on Thursday the country\\'s coronavirus case total was twice as high as previously confirmed, as authorities added 11,000 new infections that resulted from delayed testing. With 560 confirmed deaths, the outbreak has ravaged the economy of the oil-producing country and overwhelmed sanitary authorities in the largest city of Guayaquil, where corpses remained in homes or for hours on the streets.'"
      ]
     },
     "execution_count": 102,
     "metadata": {},
     "output_type": "execute_result"
    }
   ],
   "source": [
    "# Enhance the text for the document below with the US cities\n",
    "doc = df[\"text\"][6]\n",
    "# TODO ...\n",
    "enhance_text_with_resource(doc, \"US_Cities.csv\", \"US_Cities.html\")\n",
    "\n",
    "# Enhance the text for the document below with the Canadian provinces\n",
    "# File extracted from https://en.wikipedia.org/wiki/Provinces_and_territories_of_Canada\n",
    "doc = df[\"text\"][53]\n",
    "# TODO ...\n",
    "enhance_text_with_resource(doc, \"Canada_Provinces.csv\", \"Canada_Provinces.html\")\n",
    "\n",
    "# Enhance the text for the document below with the Canadian universities\n",
    "# File extracted from https://en.wikipedia.org/wiki/List_of_universities_in_Canada\n",
    "doc = df[\"text\"][53]\n",
    "# TODO ...\n",
    "enhance_text_with_resource(doc, \"Canada_Universities.csv\", \"Canada_Universities.html\")"
   ]
  },
  {
   "cell_type": "markdown",
   "metadata": {},
   "source": [
    "Maintenant, si vous ouvrez les fichiers HTML enregistrés, vous devriez constater que les mots qui apparaissent dans le texte et la ressource sont désormais directement liés aux informations pertinentes pour cette entité. Nous serions également en mesure d'améliorer un document avec de nombreuses ressources pour relier autant d'entités que possible."
   ]
  },
  {
   "cell_type": "markdown",
   "metadata": {},
   "source": [
    "**(TO DO) Q8 - 2 points**  \n",
    "Parcourez les textes améliorés générés par vos tests dans Q7. Voyez-vous des universités qui ne sont pas liées lors de l'utilisation de la ressource universitaire? Pourquoi? Utilisez la cellule de code ci-dessous pour afficher tout ce que vous pourriez avoir besoin d'étudier (si vous n'avez rien remarqué des sorties précédentes) et répondez à la question dans la démarque sous cette cellule de code.\n",
    "\n",
    "Remarque: pour le savoir, vous devez parcourir les fichiers .csv et le texte lui-même (à la fois le texte initial et la détection d'entité de spaCy)."
   ]
  },
  {
   "cell_type": "code",
   "execution_count": 103,
   "metadata": {},
   "outputs": [
    {
     "name": "stdout",
     "output_type": "stream",
     "text": [
      "                                                                              URL\n",
      "Text                                                                             \n",
      "University of Calgary           https://en.wikipedia.org/wiki/University_of_Al...\n",
      "University of Calgary           https://en.wikipedia.org/wiki/University_of_Al...\n",
      "Simon Fraser University         https://en.wikipedia.org/wiki/Simon_Fraser_Uni...\n",
      "University of British Columbia  https://en.wikipedia.org/wiki/University_of_Br...\n",
      "University of Manitoba          https://en.wikipedia.org/wiki/University_of_Ma...\n",
      "University of Winnipeg          https://en.wikipedia.org/wiki/University_of_Wi...\n",
      "Dalhousie University            https://en.wikipedia.org/wiki/Dalhousie_Univer...\n",
      "Carleton University             https://en.wikipedia.org/wiki/Carleton_University\n",
      "University of Ottawa            https://en.wikipedia.org/wiki/University_of_Ot...\n",
      "University of Toronto           https://en.wikipedia.org/wiki/University_of_To...\n",
      "York University                     https://en.wikipedia.org/wiki/York_University\n"
     ]
    },
    {
     "data": {
      "text/plain": [
       "'The latest:  Federal government announces new measures to mobilize scientists. Saskatchewan unveils five-stage plan to reopen\\xa0its\\xa0economy. The Calgary Stampede is cancelled for the first time in nearly a century. North Korea claims it has had no coronavirus cases. COVID-19 has brought research into other medical conditions to a grinding halt. Ending Quebec\\'s lockdown could mean freedom for some, but not for all. The pandemic is giving some countries political cover for controversial acts. INTERACTIVE |\\xa0See the latest data on coronavirus cases\\xa0in Canada. Have a coronavirus question or news tip for CBC News? Email: Covid@cbc.ca  The federal government has announced a $1.1-billion plan\\xa0to marshal Canada\\'s scientific community in the fight against the coronavirus, as some provinces with relatively fewer cases begin to weigh how they will relax restrictions put in place to slow the spread of\\xa0COVID-19. Scientists around the globe are scrambling to come up with tests, treatments to lessen the severity of the disease and\\xa0ultimately, a vaccine to protect against the coronavirus that has killed more than 2,000 Canadians and almost 200,000 people worldwide. At his Thursday news conference outside Rideau Cottage in Ottawa, Prime Minister Justin Trudeau said the government was putting in place a three-point medical and research strategy. WATCH | Trudeau lays out the government\\'s strategy: Prime Minister Justin Trudeau announced a $1.1 billion strategy to fund COVID-19 medical research and a task force to study immunity. 3:53 This plan includes:  $155 million for research on vaccines and other treatments, support for clinical trials\\xa0and expanding national testing and modelling.\\xa0 $662 million for clinical trials led by Canada. $350 million to expand national testing and modelling of COVID-19, including a COVID-19 immunity task force that includes Dr. David Naylor, Dr. Catherine Hankins, Dr. Tim Evans, Dr. Theresa Tam and Dr. Mona Nemer.  In mid-March, the Trudeau government\\xa0committed $275 million for research, as part of the first emergency aid package. That was supplemented later in the month with the creation of a new strategic innovation fund, which provided another $192 million to specific companies and research institutions working on the development of drugs and vaccines. A laboratory technologist at LifeLabs demonstrates one of the steps taken when a specimen is tested for COVID-19 at the company\\'s lab in Surrey, B.C., on March 26. (Darryl Dyck/The Canadian Press) As well, the government has provided $52 million through national granting councils to almost 100 research teams across the country. With several provinces beginning to talk cautiously about reopening the economy, which has been virtually shut down since mid-March, the pressure is on to find reliable, rapid tests to determine who is infected with the virus and who has developed immunity to it. Saskatchewan\\'s reopening plan Saskatchewan became the first province Thursday to outline a concrete plan\\xa0for how some businesses and services could be allowed to resume next month provided\\xa0the number of cases there stays low.\\xa0 Premier Scott Moe said\\xa0restrictions will be lifted\\xa0May 4 for dentists\\' offices, optometry clinics and physical therapy providers. Golf courses will reopen\\xa0May 15 and retail shops selling clothing, books, flowers and sporting goods might be allowed to open their doors on May 19. A runner and walker keep their distance from each other on the Charlottetown boardwalk in late March. P.E.I. is among the provinces eyeing the relaxation of some COVID-19-related restrictions. (Brian McInnis/CBC) Hairdressers and barbers could also start seeing clients again on May 19, but employees working directly with the public would have to wear masks. Physical distancing and strict cleanliness standards would have to be maintained through every phase.\\xa0 For the next\\xa0phases\\xa0— for which there are no start dates yet —\\xa0officials would consider lifting restrictions on indoor and outdoor recreational and entertainment facilities and bumping up the size of allowable gatherings to 30 people from the current 10. The final phase of the plan would include\\xa0lifting restrictions on crowd sizes, visits to long-term care facilities and non-essential travel. Moe has already said those will stay put for some time. The government\\'s plan doesn\\'t provide a timeline for when gyms might be allowed to operate or when daycare capacity might be increased. Nor does it give a time frame for food services and restaurants to reopen, but when they do, they will be expected to operate at half their capacity. Prince Edward Island, where the COVID-19 caseload is low, is aiming to ease measures put in place to slow the spread in late April and reopen businesses in mid-May. \\'Not exactly islands\\'\\xa0 Dr. Craig Jenne, an infectious disease researcher at <a href=\"Text\\nUniversity of Calgary    https://en.wikipedia.org/wiki/University_of_Al...\\nUniversity of Calgary    https://en.wikipedia.org/wiki/University_of_Al...\\nName: URL, dtype: object\"><a href=\"Text\\nUniversity of Calgary    https://en.wikipedia.org/wiki/University_of_Al...\\nUniversity of Calgary    https://en.wikipedia.org/wiki/University_of_Al...\\nName: URL, dtype: object\">the University of Calgary</a></a>, said easing restrictions in one province could present challenges for others. \"Many provinces in Canada have no hard borders,\" he said in an interview with The Canadian Press. \"Alberta, Saskatchewan, Manitoba — we are not exactly islands where we can cut off travel between provinces. \"We are going to have to make sure we\\'re on the same page with this.\" \\'Failing our parents, our grandparents\\': Trudeau Trudeau said\\xa0the military will respond to provincial requests for assistance at long-term care facilities. But he said\\xa0the measure is a short-term solution and that Canada should not need soldiers to take care of seniors. \"If you\\'re angry, frustrated, scared, you\\'re right to feel this way. We can do better. We need to do better. Because we are failing our parents, our grandparents, our elders.\" WATCH | Should long-term care homes be federally regulated? Prime Minister Justin Trudeau spoke with reporters on Thursday. 1:12 The comments today followed requests by Ontario and Quebec on Wednesday for hundreds of soldiers to help long-term care facilities that have been hit hard by COVID-19. The Canadian Armed Forces is now assessing what more it can provide to respond to these requests. Trudeau said\\xa0the government is sending the military to help in long-term care homes in Ontario and Quebec\\xa0—\\xa0130 troops were sent to help five long-term care facilities in Quebec last week\\xa0—\\xa0but said\\xa0it should never have come to this, and there are tough questions to be asked once the crisis is over. The outbreak of COVID-19 in long-term care homes has outraged many Canadians and Trudeau said\\xa0that outrage is not misplaced. WATCH | Dr. Nathan Stall says there wasn\\'t enough attention paid to long-term care residences during pre-pandemic planning: Dr. Nathan Stall, a geriatrician from Sinai Health System, says there wasn\\'t enough attention paid to long-term care residences during pre-pandemic planning. 1:16 During his daily briefing Thursday, Ontario Premier Doug Ford, whose mother-in-law is in a long-term care home and has just tested positive for COVID-19,\\xa0paused to gather himself before pledging to improve Ontario\\'s long-term care system. \"I recognize the system is broken,\" he later said. WATCH | Doug Ford\\'s full response: His voice cracking, Ontario Premier Doug Ford vowed to \\'do better\\' for the people in long-term care facilities. 1:27 Quebec resident Jonathan Marchand, who has muscular dystrophy, told CBC News\\xa0that it\\'s not only the elderly who are vulnerable in those long-term care institutions.\\xa0 \"It\\'s not a safe environment,\" he said. \"What I want is to get out of here.\" WATCH | Quebec man talks about feeling unsafe in his long-term care home: Quebec long-term care resident Jonathan Marchand, who has muscular dystrophy, says he wants the right to be cared for outside of an institution. 5:08 Thousands of layoffs in transportation The pandemic also continues to wreak havoc on\\xa0the Canadian economy. Calgary-based WestJet says a further 3,000 of its workers will be laid off in early May as demand for flights craters. In Toronto, the city\\'s transit commission said it plans to temporarily lay off 1,200 workers. As of 7\\xa0p.m. ET Thursday, there were 2,232\\xa0COVID-19-related deaths in Canada, plus two reported COVID-19-linked deaths of Canadians abroad, according to a\\xa0CBC News tally\\xa0based on provincial and local health data, as well as CBC reporting. There are 42,110 confirmed and presumptive cases, and 14,774\\xa0resolved cases among the provinces and territories that make such data public.\\xa0 INTERACTIVECoronavirus tracker: 56,000+ cases in Canada on Saturday\\'We have a whole globe to protect\\': Pandemic vaccine research speeds up Here\\'s a look at what\\'s happening in Canada, the U.S. and around the world. Here\\'s a look at what\\'s happening in the provinces and territories British Columbia has confirmed an outbreak at a second poultry processing plant.\\xa0Provincial Health Officer\\xa0Dr. Bonnie Henry\\xa0said Thursday that two\\xa0cases have been identified at the\\xa0Superior Poultry plant in Coquitlam, a sister plant to the United Poultry location in Vancouver, where 29 people have\\xa0tested positive for the coronavirus.\\xa0Read more about what\\'s happening in B.C. Alberta has cancelled the Calgary Stampede for the first time in almost 100 years. The July event typically draws a million spectators.\\xa0Organizers have already laid off 80 per cent of its staff.\\xa0Read more about what\\'s happening in Alberta. WATCH |\\xa0COVID-19 outbreak forces Alberta meat-processing plant to close: A COVID-19 outbreak at the Cargill meat processing plant in High River, Alta., has forced the facility to temporarily close, raising concerns about beef prices and supply. 3:03 In Saskatchewan, a team of\\xa0College of Engineering grad students and staff at the University of Saskatchewan\\xa0is trying to create a new reusable medical mask in an effort to reduce the global shortage of N95 respirators.\\xa0The team is collaborating with the Saskatchewan Health Authority.\\xa0Read more about what\\'s happening in Saskatchewan. Manitoba reported\\xa0five new cases of COVID-19,\\xa0its biggest single-day jump in nearly two weeks.\\xa0Of the new patients, two are in their 20s, two in their 30s and one is\\xa0in their 80s.\\xa0Read more about what\\'s happening in Manitoba. Ontario, environmental groups are raising concerns after the government changed its rules to allow it to approve some projects without public consultation. The provincial environment minister says the exemption is intended only for projects related to the pandemic that need to be built quickly, but the bulletin on the province\\'s website doesn\\'t specify that. Read about that issue here, and\\xa0read more about what\\'s happening in Ontario here. In Quebec, nurses in Montreal who have volunteered to work in a private long-term care home where more than half the residents have tested positive for COVID-19 say there is \"shockingly little\" protective gear available for employees. CHSLD Vigi Mont-Royal has more than 150 residents who have tested positive for the virus. Read more about the care home here, and\\xa0read more about what\\'s happening in Quebec here.\\xa0 New Brunswick officials warned the province is not in the clear, even though only 14 active cases remain there. Chief Medical Officer Dr. Jennifer Russell said the province\\'s success has \"given us a chance to get ready for what comes next,\" but that physical distancing will be in place for \"weeks and months ahead.\" Premier Blaine\\xa0Higgs said businesses should prepare to reopen, while also respecting physical-distancing measures.\\xa0Read more about what\\'s happening in N.B.  Web searches during COVID-19 reveal Canadians\\' anxieties  Nova Scotia\\'s four new COVID-19 deaths are all connected to long-term care homes. The province has also seen higher infection rates among women, who account for 59 per cent of cases.\\xa0Chief Medical Officer Dr. Robert Strang says it\\'s because more women live in long-term care homes and more women work in those facilities, too.\\xa0Read more about what\\'s happening in Nova Scotia. Prince Edward Island, with\\xa0only two active cases, is focusing on screening people at its small number of entry points. Checkpoints at Confederation Bridge and Charlottetown Airport have been in place since March 21, and now the province says people could be on the hook for a quick return flight\\xa0if their travel there is not essential.\\xa0Read more about what\\'s happening in P.E.I. WATCH | What to do when you return from the grocery store: Andrew Chang explains what you should do after you’ve brought your supplies home from the grocery store. 1:05 In Newfoundland and Labrador,\\xa0chief medical officer of\\xa0health Dr. Janice Fitzgerald says the province will be able to relax some\\xa0distancing measures in the near future, but warns that residents shouldn\\'t expect a full return to normal any\\xa0time soon. There have been no new cases reported in the province for five days.\\xa0Read more about what\\'s happening in N.L. In the North,\\xa0territorial health authorities are testing less than before, despite expanded criteria. Dr. Sarah Cook, the Northwest Territories\\' territorial medical director, said that\\'s partly because other public health measures have been effective.\\xa0Read more about what\\'s happening across the North. Here\\'s a look at what\\'s happening in the U.S. From The Associated Press and Reuters, updated at 7:30\\xa0p.m. ET The U.S. House of Representatives on Thursday passed a $484 billion US bill to expand federal loans to small businesses impacted by the coronavirus outbreak and hospitals overwhelmed by patients suffering from COVID-19. By a vote of 388-5, the House passed the measure, which was unanimously approved on Tuesday by the Senate. It now goes to President Donald Trump for signing into law.\\xa0 The House also approved a select committee, with subpoena power, to probe the U.S. response to the coronavirus. It will have broad powers to investigate U.S. preparedness, how federal dollars are being spent, and Trump administration deliberations. That aid came as another\\xa04.4 million Americans filed for government jobless benefits for the first time last week, as joblessness continues to hit the U.S. economy at a breathtaking pace. Bronx Draft House manager Jonas Silva hands over a free meal to a first responder on April 23, 2020, in New York City. On Thursday, Gov. Andrew Cuomo said a new study suggested 2.7 million residents across the state may already have antibodies for COVID-19. (David Dee Delgado/Getty Images) The figure brings the total number of newly jobless people in the United States\\xa0in the past five weeks to more than 26 million. That\\'s more than the entire number of new jobs created in the U.S. economy since the financial crisis of 2008. As of 9\\xa0p.m., there were more than\\xa0867,000 confirmed cases and nearly 50,000 deaths in the country, according to a Johns Hopkins University tally.\\xa0  1st known U.S. coronavirus death occurred weeks earlier than thought in California Gun killings in U.S. cities: The scourge not even a pandemic lockdown can stop  On Thursday,\\xa0New York Gov. Andrew\\xa0Cuomo announced a screening of 3,000 people in the state found nearly 14 per cent tested positive for antibodies for the\\xa0coronavirus, suggesting that 2.7 million residents across New York may have been infected with the disease.\\xa0 Cuomo noted that the survey was preliminary and had limitations, though at least initially indicated a fatality rate of about 0.5 per cent of confirmed cases, far lower than some experts feared.\\xa0\\xa0 Visitors to the Department of Labor are turned away at the door by personnel due to closures over coronavirus concerns, Wednesday, March 18, 2020, in New York. Applications for jobless benefits are surging in some states as coronavirus concerns shake the U.S. economy. The sharp increase comes as governments have ordered millions of workers, students and shoppers to stay home as a precaution against spreading the virus that causes the COVID-19 disease.  (AP Photo/John Minchillo) (John Minchillo/Associated Press)\\xa0 Meanwhile, shares of American pharmaceutical company Gilead Sciences fell more than\\xa0four\\xa0per cent Thursday, after the Financial Times reported its experimental coronavirus drug failed its first randomized clinical trial. The report cited draft documents published accidentally by the World Health Organization. In a statement on Friday, Gilead said the post included inappropriate characterizations of the study and that the study was terminated early due to low enrolment and, as a result, it was underpowered to enable statistically meaningful conclusions. Here\\'s what\\'s happening around the world From The Associated Press and Reuters, updated at 7:30 p.m. ET European Union leaders edged forward on Thursday toward joint financing of an economic recovery from the coronavirus pandemic\\xa0by agreeing to ask the European Commission to work out the details of such common support. A pupil walks between distanced tables as she arrives for a test at a secondary school in Berlin on April 22. (Tobias Schwarz/AFP/Getty Images) Still, a decision is likely months away as member countries disagree on how much financial aid should be given out.\\xa0 Austria, Denmark, Sweden and the Netherlands all opposed recovery aid through grants, while a broader northern camp — including Germany — were in favour of linking a new Recovery Fund to the bloc\\'s next long-term budget for 2021-27, sources said.   EU holds critical virtual summit on setting yearslong budget in a time of pandemic   Hard-hit Italy called for a Recovery Fund of 1.5 trillion euros\\xa0($2.3 trillion Cdn) as well as grants to member states, while French President Emmanuel Macron said Europe\\'s response required financial transfers to the hardest-hit states, and not just loans. Macron also said the European project had no future if member states failed to respond to the \"exceptional shock.\"\\xa0\\xa0\\xa0 The World Health Organization said it would announce a \"landmark collaboration\" on Friday to speed development of safe, effective drugs, tests and vaccines to prevent, diagnose and treat COVID-19. The Geneva-based agency, in a brief statement issued late on Thursday, said the initiative with partners aims to make technologies against the disease caused by the novel coronavirus \"accessible to everyone who needs them, worldwide,\" but gave no details. With more than 22,000 officially recorded deaths, officials in Spain are now preparing for rolling back some of the strict lockdown\\xa0restrictions. The confinement has helped slow the daily contagion rate increase from more than 20 per cent\\xa0to less than two\\xa0per cent, although Spain has not been testing widely and the real contagion is believed to be higher. Health-care workers attend a coronavirus patient at the intensive care unit of the Principe de Asturias hospital in Alcala de Henares, near Madrid, on April 22. (Pierre-Philippe Marcou/AFP/Getty Images) China says Australian calls for an independent investigation into the cause of the coronavirus outbreak are politically motivated and unhelpful in dealing with the global pandemic.\\xa0Australia is among a number of countries and localities that are calling for more information from China about where the virus originated and whether all efforts were made to stop it spreading across China and then around the globe. China also said on Thursday\\xa0it would donate a further $30 million US to the World Health Organization, about a week after U.S. President Donald Trump announced that U.S. funding would be halted while Washington reviewed the WHO\\'s role \"in severely mismanaging and covering up the spread of the coronavirus.\"\\xa0 British Prime Minister Boris Johnson is planning to return to work as early as Monday after being hospitalized earlier this month with COVID-19, the Telegraph reported, even as the U.K.\\xa0economy is crumbling under the strain of the coronavirus lockdown. A business owner uses a thermal fogger as he disinfects trucks at a haulage firm in Barnsley, south Yorkshire, U.K., on April 22. (Oli Scarff/AFP/Getty Images) North Korea has told the World Health Organization it tested 740 people for the new coronavirus as of April 17 but that all came out negative.\\xa0That claim is being questioned by many outside experts. South Korea\\'s\\xa0health authorities are planning to soon begin antibody tests to learn how widespread the coronavirus infection is within the population. They are also researching how long people maintain immunity after recovering from COVID-19.\\xa0 South Africa\\'s President Cyril Ramaphosa said the government will allow a partial reopening of the economy on May 1, with travel restrictions eased and some industries allowed to operate under a five-level risk system. International borders will remain closed while travel will be only allowed for essential services. COVID-19 cases surged 43 per cent in the past week across\\xa0Africa, reaching 26,000 according to the director of the Africa Centers for Disease Control and Prevention. The figures underscored a recent warning from the World Health Organization that the virus could kill more than 300,000 people in the continent and push 30 million into desperate poverty.\\xa0 Ecuador\\'s health minister said on Thursday the country\\'s coronavirus case total was twice as high as previously confirmed, as authorities added 11,000 new infections that resulted from delayed testing. With 560 confirmed deaths, the outbreak has ravaged the economy of the oil-producing country and overwhelmed sanitary authorities in the largest city of Guayaquil, where corpses remained in homes or for hours on the streets.'"
      ]
     },
     "execution_count": 103,
     "metadata": {},
     "output_type": "execute_result"
    }
   ],
   "source": [
    "# Look through any outputs that may seem off to help understand why (if not already known)\n",
    "df_ressource = pd.read_csv(\"Canada_Universities.csv\")\n",
    "df_ressource.set_index(\"Text\", inplace=True) #set the DataFrame index using existing columns \n",
    "print(df_ressource) #print the csv file\n",
    "\n",
    "enhance_text_with_resource(doc, \"Canada_Universities.csv\", \"Canada_Universities.html\") #print the html file\n"
   ]
  },
  {
   "cell_type": "markdown",
   "metadata": {},
   "source": [
    "TODO ... \n",
    "\n",
    "Comme on peut le remaquer ci-dessus, il y a des universités qui ne sont pas liées lors de l'utilisation de la ressource universitaire. En effet, on peut remarquer que l'université de Saskatchewan n'est pas présente dans le fichier csv, donc l'université ne va pas être liées à une page web dans le fichier html."
   ]
  },
  {
   "cell_type": "markdown",
   "metadata": {},
   "source": [
    "**(TO DO) Q9 - 2 points**  \n",
    "Nous allons maintenant combiner une partie du travail effectué dans la partie 1 de ce notebook avec le travail effectué dans cette partie du notebook. Plus précisément, nous effectuerons une validation de type NER pour nous assurer que lorsque nous améliorons du texte avec une ressource, elle n'améliorera que les entités du type NER correct. Par exemple, lorsque nous utilisons la ressource des villes ou des provinces, assurez-vous que l'entité que nous examinons est classée comme GPE avant de l'étendre. Le même concept s'applique aux universités, qui devraient être classées comme ORG.\n",
    "\n",
    "Copiez votre définition de la fonction *enhan_text_with_resource*, étendez-la pour accepter également un type NER comme entrée (ex: *PERSON*, *ORG*, ...) et assurez-vous que l'amélioration du texte ne se produit que si *au moins une entité avec la même forme de surface* du document contient le même type NER que celui fourni au paramètre d'entrée. Cette nouvelle fonction est nommée *enhan_text_with_resource_and_type*.\n",
    "\n",
    "*NOTE (vous pouvez ignorer - juste pour plus d'informations):* En réalité, nous aimerions que ce soit défini de telle sorte que seule une entité d'un type spécifié ait son ensemble de tokens correspondant dans le texte à lier à la ressource. Cependant, ce processus peut être délicat car la logique impliquera de créer des indicateurs dans le texte pour savoir quelles entités ont déjà été vérifiées (ex: si *Nova Scotia* apparaît deux fois dans le texte, chaque instance avec son propre type NER, alors nous avons besoin pour connaître l'ensemble des tokens que nous éditons pour chacune des entités). Ainsi, vous devez uniquement vous assurer que si au moins une entité de la même forme de surface contient le type NER et se trouve dans le texte, toutes les instances de ces entités sont mises à jour. Si une ressource contient les entités dans le texte, mais qu'elles sont toutes d'un type différent, ignorez-les. Vous êtes libre de mettre en œuvre la méthode la plus robuste détaillée ci-dessus si vous le souhaitez, mais il est recommandé d'appliquer l'approche la plus simpliste que demande la question."
   ]
  },
  {
   "cell_type": "code",
   "execution_count": 109,
   "metadata": {},
   "outputs": [],
   "source": [
    "def enhance_text_with_resource_and_type(document_text, resource_df, filename, NER_type):\n",
    "    '''\n",
    "    With a NER type, a resource and document's text, enhance any entity found in the resource by linking the entity to\n",
    "    the appropriate webpage if at least one surface form contains the specified NER type.\n",
    "    Write the file to the appropriate filename and return the enhanced text\n",
    "    '''\n",
    "    enhanced_text = document_text\n",
    "    # TODO: Parse the document with spaCy\n",
    "    document_sp = sp(enhanced_text)\n",
    "    # TODO: Go through the entities and edit the document's text accordingly\n",
    "    # Note: Be sure to not duplicate your enhancementes\n",
    "    \n",
    "    df_ressource = pd.read_csv(resource_df)\n",
    "    df_ressource.set_index(\"Text\", inplace=True)\n",
    "    for token in document_sp.ents:\n",
    "        for i in df_ressource.index:\n",
    "            if i in token.text:\n",
    "                types = find_entity_types(token.text, document_sp.ents) #find entity types\n",
    "                if NER_type in types: #check if the NER_type is in the entity types before enhancing \n",
    "                    enhanced_text = enhanced_text.replace(token.text, (\"<a href=\\\"\" + str(df_ressource.loc[i][\"URL\"]) + \"\\\">\" + token.text + \"</a>\"))\n",
    "    \n",
    "    # Write the result as an HTML file\n",
    "    with open(filename, \"w\", encoding=\"utf-8\") as f:\n",
    "        f.write(enhanced_text)\n",
    "        f.close()\n",
    "    return enhanced_text"
   ]
  },
  {
   "cell_type": "markdown",
   "metadata": {},
   "source": [
    "**(TO DO) Q10 - 2 points**  \n",
    "Refaites les tests effectués en Q7 avec la fonction *enhan_text_with_resource* nouvellement définie. Assurez-vous d'utiliser le type NER approprié en fonction de la ressource utilisée pour le linking autorisée."
   ]
  },
  {
   "cell_type": "code",
   "execution_count": 110,
   "metadata": {},
   "outputs": [
    {
     "data": {
      "text/plain": [
       "'The latest:  Federal government announces new measures to mobilize scientists. Saskatchewan unveils five-stage plan to reopen\\xa0its\\xa0economy. The Calgary Stampede is cancelled for the first time in nearly a century. North Korea claims it has had no coronavirus cases. COVID-19 has brought research into other medical conditions to a grinding halt. Ending Quebec\\'s lockdown could mean freedom for some, but not for all. The pandemic is giving some countries political cover for controversial acts. INTERACTIVE |\\xa0See the latest data on coronavirus cases\\xa0in Canada. Have a coronavirus question or news tip for CBC News? Email: Covid@cbc.ca  The federal government has announced a $1.1-billion plan\\xa0to marshal Canada\\'s scientific community in the fight against the coronavirus, as some provinces with relatively fewer cases begin to weigh how they will relax restrictions put in place to slow the spread of\\xa0COVID-19. Scientists around the globe are scrambling to come up with tests, treatments to lessen the severity of the disease and\\xa0ultimately, a vaccine to protect against the coronavirus that has killed more than 2,000 Canadians and almost 200,000 people worldwide. At his Thursday news conference outside Rideau Cottage in Ottawa, Prime Minister Justin Trudeau said the government was putting in place a three-point medical and research strategy. WATCH | Trudeau lays out the government\\'s strategy: Prime Minister Justin Trudeau announced a $1.1 billion strategy to fund COVID-19 medical research and a task force to study immunity. 3:53 This plan includes:  $155 million for research on vaccines and other treatments, support for clinical trials\\xa0and expanding national testing and modelling.\\xa0 $662 million for clinical trials led by Canada. $350 million to expand national testing and modelling of COVID-19, including a COVID-19 immunity task force that includes Dr. David Naylor, Dr. Catherine Hankins, Dr. Tim Evans, Dr. Theresa Tam and Dr. Mona Nemer.  In mid-March, the Trudeau government\\xa0committed $275 million for research, as part of the first emergency aid package. That was supplemented later in the month with the creation of a new strategic innovation fund, which provided another $192 million to specific companies and research institutions working on the development of drugs and vaccines. A laboratory technologist at LifeLabs demonstrates one of the steps taken when a specimen is tested for COVID-19 at the company\\'s lab in Surrey, B.C., on March 26. (Darryl Dyck/The Canadian Press) As well, the government has provided $52 million through national granting councils to almost 100 research teams across the country. With several provinces beginning to talk cautiously about reopening the economy, which has been virtually shut down since mid-March, the pressure is on to find reliable, rapid tests to determine who is infected with the virus and who has developed immunity to it. Saskatchewan\\'s reopening plan Saskatchewan became the first province Thursday to outline a concrete plan\\xa0for how some businesses and services could be allowed to resume next month provided\\xa0the number of cases there stays low.\\xa0 Premier Scott Moe said\\xa0restrictions will be lifted\\xa0May 4 for dentists\\' offices, optometry clinics and physical therapy providers. Golf courses will reopen\\xa0May 15 and retail shops selling clothing, books, flowers and sporting goods might be allowed to open their doors on May 19. A runner and walker keep their distance from each other on the Charlottetown boardwalk in late March. P.E.I. is among the provinces eyeing the relaxation of some COVID-19-related restrictions. (Brian McInnis/CBC) Hairdressers and barbers could also start seeing clients again on May 19, but employees working directly with the public would have to wear masks. Physical distancing and strict cleanliness standards would have to be maintained through every phase.\\xa0 For the next\\xa0phases\\xa0— for which there are no start dates yet —\\xa0officials would consider lifting restrictions on indoor and outdoor recreational and entertainment facilities and bumping up the size of allowable gatherings to 30 people from the current 10. The final phase of the plan would include\\xa0lifting restrictions on crowd sizes, visits to long-term care facilities and non-essential travel. Moe has already said those will stay put for some time. The government\\'s plan doesn\\'t provide a timeline for when gyms might be allowed to operate or when daycare capacity might be increased. Nor does it give a time frame for food services and restaurants to reopen, but when they do, they will be expected to operate at half their capacity. Prince Edward Island, where the COVID-19 caseload is low, is aiming to ease measures put in place to slow the spread in late April and reopen businesses in mid-May. \\'Not exactly islands\\'\\xa0 Dr. Craig Jenne, an infectious disease researcher at <a href=\"Text\\nUniversity of Calgary    https://en.wikipedia.org/wiki/University_of_Al...\\nUniversity of Calgary    https://en.wikipedia.org/wiki/University_of_Al...\\nName: URL, dtype: object\"><a href=\"Text\\nUniversity of Calgary    https://en.wikipedia.org/wiki/University_of_Al...\\nUniversity of Calgary    https://en.wikipedia.org/wiki/University_of_Al...\\nName: URL, dtype: object\">the University of Calgary</a></a>, said easing restrictions in one province could present challenges for others. \"Many provinces in Canada have no hard borders,\" he said in an interview with The Canadian Press. \"Alberta, Saskatchewan, Manitoba — we are not exactly islands where we can cut off travel between provinces. \"We are going to have to make sure we\\'re on the same page with this.\" \\'Failing our parents, our grandparents\\': Trudeau Trudeau said\\xa0the military will respond to provincial requests for assistance at long-term care facilities. But he said\\xa0the measure is a short-term solution and that Canada should not need soldiers to take care of seniors. \"If you\\'re angry, frustrated, scared, you\\'re right to feel this way. We can do better. We need to do better. Because we are failing our parents, our grandparents, our elders.\" WATCH | Should long-term care homes be federally regulated? Prime Minister Justin Trudeau spoke with reporters on Thursday. 1:12 The comments today followed requests by Ontario and Quebec on Wednesday for hundreds of soldiers to help long-term care facilities that have been hit hard by COVID-19. The Canadian Armed Forces is now assessing what more it can provide to respond to these requests. Trudeau said\\xa0the government is sending the military to help in long-term care homes in Ontario and Quebec\\xa0—\\xa0130 troops were sent to help five long-term care facilities in Quebec last week\\xa0—\\xa0but said\\xa0it should never have come to this, and there are tough questions to be asked once the crisis is over. The outbreak of COVID-19 in long-term care homes has outraged many Canadians and Trudeau said\\xa0that outrage is not misplaced. WATCH | Dr. Nathan Stall says there wasn\\'t enough attention paid to long-term care residences during pre-pandemic planning: Dr. Nathan Stall, a geriatrician from Sinai Health System, says there wasn\\'t enough attention paid to long-term care residences during pre-pandemic planning. 1:16 During his daily briefing Thursday, Ontario Premier Doug Ford, whose mother-in-law is in a long-term care home and has just tested positive for COVID-19,\\xa0paused to gather himself before pledging to improve Ontario\\'s long-term care system. \"I recognize the system is broken,\" he later said. WATCH | Doug Ford\\'s full response: His voice cracking, Ontario Premier Doug Ford vowed to \\'do better\\' for the people in long-term care facilities. 1:27 Quebec resident Jonathan Marchand, who has muscular dystrophy, told CBC News\\xa0that it\\'s not only the elderly who are vulnerable in those long-term care institutions.\\xa0 \"It\\'s not a safe environment,\" he said. \"What I want is to get out of here.\" WATCH | Quebec man talks about feeling unsafe in his long-term care home: Quebec long-term care resident Jonathan Marchand, who has muscular dystrophy, says he wants the right to be cared for outside of an institution. 5:08 Thousands of layoffs in transportation The pandemic also continues to wreak havoc on\\xa0the Canadian economy. Calgary-based WestJet says a further 3,000 of its workers will be laid off in early May as demand for flights craters. In Toronto, the city\\'s transit commission said it plans to temporarily lay off 1,200 workers. As of 7\\xa0p.m. ET Thursday, there were 2,232\\xa0COVID-19-related deaths in Canada, plus two reported COVID-19-linked deaths of Canadians abroad, according to a\\xa0CBC News tally\\xa0based on provincial and local health data, as well as CBC reporting. There are 42,110 confirmed and presumptive cases, and 14,774\\xa0resolved cases among the provinces and territories that make such data public.\\xa0 INTERACTIVECoronavirus tracker: 56,000+ cases in Canada on Saturday\\'We have a whole globe to protect\\': Pandemic vaccine research speeds up Here\\'s a look at what\\'s happening in Canada, the U.S. and around the world. Here\\'s a look at what\\'s happening in the provinces and territories British Columbia has confirmed an outbreak at a second poultry processing plant.\\xa0Provincial Health Officer\\xa0Dr. Bonnie Henry\\xa0said Thursday that two\\xa0cases have been identified at the\\xa0Superior Poultry plant in Coquitlam, a sister plant to the United Poultry location in Vancouver, where 29 people have\\xa0tested positive for the coronavirus.\\xa0Read more about what\\'s happening in B.C. Alberta has cancelled the Calgary Stampede for the first time in almost 100 years. The July event typically draws a million spectators.\\xa0Organizers have already laid off 80 per cent of its staff.\\xa0Read more about what\\'s happening in Alberta. WATCH |\\xa0COVID-19 outbreak forces Alberta meat-processing plant to close: A COVID-19 outbreak at the Cargill meat processing plant in High River, Alta., has forced the facility to temporarily close, raising concerns about beef prices and supply. 3:03 In Saskatchewan, a team of\\xa0College of Engineering grad students and staff at the University of Saskatchewan\\xa0is trying to create a new reusable medical mask in an effort to reduce the global shortage of N95 respirators.\\xa0The team is collaborating with the Saskatchewan Health Authority.\\xa0Read more about what\\'s happening in Saskatchewan. Manitoba reported\\xa0five new cases of COVID-19,\\xa0its biggest single-day jump in nearly two weeks.\\xa0Of the new patients, two are in their 20s, two in their 30s and one is\\xa0in their 80s.\\xa0Read more about what\\'s happening in Manitoba. Ontario, environmental groups are raising concerns after the government changed its rules to allow it to approve some projects without public consultation. The provincial environment minister says the exemption is intended only for projects related to the pandemic that need to be built quickly, but the bulletin on the province\\'s website doesn\\'t specify that. Read about that issue here, and\\xa0read more about what\\'s happening in Ontario here. In Quebec, nurses in Montreal who have volunteered to work in a private long-term care home where more than half the residents have tested positive for COVID-19 say there is \"shockingly little\" protective gear available for employees. CHSLD Vigi Mont-Royal has more than 150 residents who have tested positive for the virus. Read more about the care home here, and\\xa0read more about what\\'s happening in Quebec here.\\xa0 New Brunswick officials warned the province is not in the clear, even though only 14 active cases remain there. Chief Medical Officer Dr. Jennifer Russell said the province\\'s success has \"given us a chance to get ready for what comes next,\" but that physical distancing will be in place for \"weeks and months ahead.\" Premier Blaine\\xa0Higgs said businesses should prepare to reopen, while also respecting physical-distancing measures.\\xa0Read more about what\\'s happening in N.B.  Web searches during COVID-19 reveal Canadians\\' anxieties  Nova Scotia\\'s four new COVID-19 deaths are all connected to long-term care homes. The province has also seen higher infection rates among women, who account for 59 per cent of cases.\\xa0Chief Medical Officer Dr. Robert Strang says it\\'s because more women live in long-term care homes and more women work in those facilities, too.\\xa0Read more about what\\'s happening in Nova Scotia. Prince Edward Island, with\\xa0only two active cases, is focusing on screening people at its small number of entry points. Checkpoints at Confederation Bridge and Charlottetown Airport have been in place since March 21, and now the province says people could be on the hook for a quick return flight\\xa0if their travel there is not essential.\\xa0Read more about what\\'s happening in P.E.I. WATCH | What to do when you return from the grocery store: Andrew Chang explains what you should do after you’ve brought your supplies home from the grocery store. 1:05 In Newfoundland and Labrador,\\xa0chief medical officer of\\xa0health Dr. Janice Fitzgerald says the province will be able to relax some\\xa0distancing measures in the near future, but warns that residents shouldn\\'t expect a full return to normal any\\xa0time soon. There have been no new cases reported in the province for five days.\\xa0Read more about what\\'s happening in N.L. In the North,\\xa0territorial health authorities are testing less than before, despite expanded criteria. Dr. Sarah Cook, the Northwest Territories\\' territorial medical director, said that\\'s partly because other public health measures have been effective.\\xa0Read more about what\\'s happening across the North. Here\\'s a look at what\\'s happening in the U.S. From The Associated Press and Reuters, updated at 7:30\\xa0p.m. ET The U.S. House of Representatives on Thursday passed a $484 billion US bill to expand federal loans to small businesses impacted by the coronavirus outbreak and hospitals overwhelmed by patients suffering from COVID-19. By a vote of 388-5, the House passed the measure, which was unanimously approved on Tuesday by the Senate. It now goes to President Donald Trump for signing into law.\\xa0 The House also approved a select committee, with subpoena power, to probe the U.S. response to the coronavirus. It will have broad powers to investigate U.S. preparedness, how federal dollars are being spent, and Trump administration deliberations. That aid came as another\\xa04.4 million Americans filed for government jobless benefits for the first time last week, as joblessness continues to hit the U.S. economy at a breathtaking pace. Bronx Draft House manager Jonas Silva hands over a free meal to a first responder on April 23, 2020, in New York City. On Thursday, Gov. Andrew Cuomo said a new study suggested 2.7 million residents across the state may already have antibodies for COVID-19. (David Dee Delgado/Getty Images) The figure brings the total number of newly jobless people in the United States\\xa0in the past five weeks to more than 26 million. That\\'s more than the entire number of new jobs created in the U.S. economy since the financial crisis of 2008. As of 9\\xa0p.m., there were more than\\xa0867,000 confirmed cases and nearly 50,000 deaths in the country, according to a Johns Hopkins University tally.\\xa0  1st known U.S. coronavirus death occurred weeks earlier than thought in California Gun killings in U.S. cities: The scourge not even a pandemic lockdown can stop  On Thursday,\\xa0New York Gov. Andrew\\xa0Cuomo announced a screening of 3,000 people in the state found nearly 14 per cent tested positive for antibodies for the\\xa0coronavirus, suggesting that 2.7 million residents across New York may have been infected with the disease.\\xa0 Cuomo noted that the survey was preliminary and had limitations, though at least initially indicated a fatality rate of about 0.5 per cent of confirmed cases, far lower than some experts feared.\\xa0\\xa0 Visitors to the Department of Labor are turned away at the door by personnel due to closures over coronavirus concerns, Wednesday, March 18, 2020, in New York. Applications for jobless benefits are surging in some states as coronavirus concerns shake the U.S. economy. The sharp increase comes as governments have ordered millions of workers, students and shoppers to stay home as a precaution against spreading the virus that causes the COVID-19 disease.  (AP Photo/John Minchillo) (John Minchillo/Associated Press)\\xa0 Meanwhile, shares of American pharmaceutical company Gilead Sciences fell more than\\xa0four\\xa0per cent Thursday, after the Financial Times reported its experimental coronavirus drug failed its first randomized clinical trial. The report cited draft documents published accidentally by the World Health Organization. In a statement on Friday, Gilead said the post included inappropriate characterizations of the study and that the study was terminated early due to low enrolment and, as a result, it was underpowered to enable statistically meaningful conclusions. Here\\'s what\\'s happening around the world From The Associated Press and Reuters, updated at 7:30 p.m. ET European Union leaders edged forward on Thursday toward joint financing of an economic recovery from the coronavirus pandemic\\xa0by agreeing to ask the European Commission to work out the details of such common support. A pupil walks between distanced tables as she arrives for a test at a secondary school in Berlin on April 22. (Tobias Schwarz/AFP/Getty Images) Still, a decision is likely months away as member countries disagree on how much financial aid should be given out.\\xa0 Austria, Denmark, Sweden and the Netherlands all opposed recovery aid through grants, while a broader northern camp — including Germany — were in favour of linking a new Recovery Fund to the bloc\\'s next long-term budget for 2021-27, sources said.   EU holds critical virtual summit on setting yearslong budget in a time of pandemic   Hard-hit Italy called for a Recovery Fund of 1.5 trillion euros\\xa0($2.3 trillion Cdn) as well as grants to member states, while French President Emmanuel Macron said Europe\\'s response required financial transfers to the hardest-hit states, and not just loans. Macron also said the European project had no future if member states failed to respond to the \"exceptional shock.\"\\xa0\\xa0\\xa0 The World Health Organization said it would announce a \"landmark collaboration\" on Friday to speed development of safe, effective drugs, tests and vaccines to prevent, diagnose and treat COVID-19. The Geneva-based agency, in a brief statement issued late on Thursday, said the initiative with partners aims to make technologies against the disease caused by the novel coronavirus \"accessible to everyone who needs them, worldwide,\" but gave no details. With more than 22,000 officially recorded deaths, officials in Spain are now preparing for rolling back some of the strict lockdown\\xa0restrictions. The confinement has helped slow the daily contagion rate increase from more than 20 per cent\\xa0to less than two\\xa0per cent, although Spain has not been testing widely and the real contagion is believed to be higher. Health-care workers attend a coronavirus patient at the intensive care unit of the Principe de Asturias hospital in Alcala de Henares, near Madrid, on April 22. (Pierre-Philippe Marcou/AFP/Getty Images) China says Australian calls for an independent investigation into the cause of the coronavirus outbreak are politically motivated and unhelpful in dealing with the global pandemic.\\xa0Australia is among a number of countries and localities that are calling for more information from China about where the virus originated and whether all efforts were made to stop it spreading across China and then around the globe. China also said on Thursday\\xa0it would donate a further $30 million US to the World Health Organization, about a week after U.S. President Donald Trump announced that U.S. funding would be halted while Washington reviewed the WHO\\'s role \"in severely mismanaging and covering up the spread of the coronavirus.\"\\xa0 British Prime Minister Boris Johnson is planning to return to work as early as Monday after being hospitalized earlier this month with COVID-19, the Telegraph reported, even as the U.K.\\xa0economy is crumbling under the strain of the coronavirus lockdown. A business owner uses a thermal fogger as he disinfects trucks at a haulage firm in Barnsley, south Yorkshire, U.K., on April 22. (Oli Scarff/AFP/Getty Images) North Korea has told the World Health Organization it tested 740 people for the new coronavirus as of April 17 but that all came out negative.\\xa0That claim is being questioned by many outside experts. South Korea\\'s\\xa0health authorities are planning to soon begin antibody tests to learn how widespread the coronavirus infection is within the population. They are also researching how long people maintain immunity after recovering from COVID-19.\\xa0 South Africa\\'s President Cyril Ramaphosa said the government will allow a partial reopening of the economy on May 1, with travel restrictions eased and some industries allowed to operate under a five-level risk system. International borders will remain closed while travel will be only allowed for essential services. COVID-19 cases surged 43 per cent in the past week across\\xa0Africa, reaching 26,000 according to the director of the Africa Centers for Disease Control and Prevention. The figures underscored a recent warning from the World Health Organization that the virus could kill more than 300,000 people in the continent and push 30 million into desperate poverty.\\xa0 Ecuador\\'s health minister said on Thursday the country\\'s coronavirus case total was twice as high as previously confirmed, as authorities added 11,000 new infections that resulted from delayed testing. With 560 confirmed deaths, the outbreak has ravaged the economy of the oil-producing country and overwhelmed sanitary authorities in the largest city of Guayaquil, where corpses remained in homes or for hours on the streets.'"
      ]
     },
     "execution_count": 110,
     "metadata": {},
     "output_type": "execute_result"
    }
   ],
   "source": [
    "# Enhance the text for the document below with the US cities\n",
    "doc = df[\"text\"][6]\n",
    "enhance_text_with_resource_and_type(doc, \"US_Cities.csv\", \"US_Cities_NER.html\", \"GPE\")\n",
    "\n",
    "# Enhance the text for the document below with the Canadian provinces\n",
    "# File extracted from https://en.wikipedia.org/wiki/Provinces_and_territories_of_Canada\n",
    "doc = df[\"text\"][53]\n",
    "enhance_text_with_resource_and_type(doc, \"Canada_Provinces.csv\", \"Canada_Provinces_NER.html\", \"GPE\")\n",
    "\n",
    "# Enhance the text for the document below with the Canadian universities\n",
    "# File extracted from https://en.wikipedia.org/wiki/List_of_universities_in_Canada\n",
    "doc = df[\"text\"][53]\n",
    "enhance_text_with_resource_and_type(doc, \"Canada_Universities.csv\", \"Canada_Universities_NER.html\", \"ORG\")"
   ]
  },
  {
   "cell_type": "markdown",
   "metadata": {},
   "source": [
    "***SIGNATURE:***\n",
    "Mon nom est Dounia Mansouri\n",
    "J'atteste être l'auteur de cette mission."
   ]
  }
 ],
 "metadata": {
  "kernelspec": {
   "display_name": "Python 3",
   "language": "python",
   "name": "python3"
  },
  "language_info": {
   "codemirror_mode": {
    "name": "ipython",
    "version": 3
   },
   "file_extension": ".py",
   "mimetype": "text/x-python",
   "name": "python",
   "nbconvert_exporter": "python",
   "pygments_lexer": "ipython3",
   "version": "3.8.5"
  }
 },
 "nbformat": 4,
 "nbformat_minor": 2
}
